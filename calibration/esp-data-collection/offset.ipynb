{
 "cells": [
  {
   "cell_type": "markdown",
   "metadata": {},
   "source": [
    "# Offset"
   ]
  },
  {
   "cell_type": "code",
   "execution_count": 4,
   "metadata": {},
   "outputs": [],
   "source": [
    "import threading\n",
    "import time\n",
    "import numpy as np\n",
    "import sounddevice as sd\n",
    "import serial\n",
    "from ctypes import cast, POINTER\n",
    "from comtypes import CLSCTX_ALL\n",
    "from pycaw.pycaw import AudioUtilities, IAudioEndpointVolume\n",
    "import matplotlib.pyplot as plt\n",
    "from ordered_set import OrderedSet\n",
    "import pickle"
   ]
  },
  {
   "cell_type": "code",
   "execution_count": 5,
   "metadata": {},
   "outputs": [],
   "source": [
    "import sys\n",
    "sys.path.append('..')\n",
    "# Custom imports\n",
    "from analysis_utils import DataContainer\n",
    "from audio_constants import ref_volume, dB_to_scalar"
   ]
  },
  {
   "cell_type": "code",
   "execution_count": 6,
   "metadata": {},
   "outputs": [],
   "source": [
    "ESP_COM_PORT = \"COM22\"\n",
    "ESP_BAUDRATE = 115200"
   ]
  },
  {
   "cell_type": "code",
   "execution_count": 7,
   "metadata": {},
   "outputs": [],
   "source": [
    "# Get the default audio playback device\n",
    "devices = AudioUtilities.GetSpeakers()\n",
    "interface = devices.Activate(\n",
    "    IAudioEndpointVolume._iid_, CLSCTX_ALL, None)\n",
    "\n",
    "# Create a volume control interface\n",
    "volume_controller = cast(interface, POINTER(IAudioEndpointVolume))"
   ]
  },
  {
   "cell_type": "code",
   "execution_count": 28,
   "metadata": {},
   "outputs": [],
   "source": [
    "# Function to receive serial data and store it\n",
    "def receive_serial_data(data):\n",
    "    ser = serial.Serial(ESP_COM_PORT, ESP_BAUDRATE)  # Replace 'COM1' with your serial port\n",
    "    while not finish_flag:\n",
    "        received_data = ser.readline().decode().strip()\n",
    "        received_data = received_data.split(\" \")[0]\n",
    "        try:\n",
    "            received_data = float(received_data)\n",
    "        except ValueError:\n",
    "            received_data = float(received_data.split(\".\")[0])\n",
    "        try:\n",
    "            if log_flag:\n",
    "                data = np.append(data, received_data)\n",
    "                print(received_data)\n",
    "        except KeyError:\n",
    "            pass\n",
    "    ser.close()"
   ]
  },
  {
   "cell_type": "code",
   "execution_count": 25,
   "metadata": {},
   "outputs": [],
   "source": [
    "# Function to play audio sine wave\n",
    "def play_test_wave():\n",
    "    global log_flag, finish_flag\n",
    "    duration = 15 if TIME_PERIOD == 0.125 else 30 # s\n",
    "    sample_rate = 88200\n",
    "    t = np.arange(0, duration, 1 / sample_rate)\n",
    "\n",
    "    sine_wave = np.sin(2 * np.pi * 1000 * t)\n",
    "    volume_controller.SetMasterVolumeLevelScalar(dB_to_scalar[ref_volume], None)\n",
    "\n",
    "    finish_flag = False\n",
    "    log_flag = True\n",
    "\n",
    "    # Wait before playing the sine wave\n",
    "    time.sleep(0.375 if TIME_PERIOD == 0.125 else 3) #s\n",
    "\n",
    "    sd.play(sine_wave, sample_rate, blocking=True)\n",
    "\n",
    "    # Wait after playback is done\n",
    "    time.sleep(0.375 if TIME_PERIOD == 0.125 else 3) #s\n",
    "\n",
    "    log_flag = False\n",
    "\n",
    "    # Send a signal to the other thread to terminate\n",
    "    finish_flag = True"
   ]
  },
  {
   "cell_type": "code",
   "execution_count": 8,
   "metadata": {},
   "outputs": [],
   "source": [
    "# Create formatted containers to store received serial data\n",
    "offset_data_F_unwted = np.array([])\n",
    "offset_data_S_unwted = np.array([])\n",
    "offset_data_F_wted = np.array([])\n",
    "offset_data_S_wted = np.array([])\n",
    "\n",
    "# Flag to signal termination\n",
    "finish_flag = False\n",
    "# Flag to signal when to log measurements\n",
    "log_flag = False"
   ]
  },
  {
   "cell_type": "markdown",
   "metadata": {},
   "source": [
    "## Ejecutar pruebas"
   ]
  },
  {
   "cell_type": "markdown",
   "metadata": {},
   "source": [
    "### Periodo F, sin ponderación A"
   ]
  },
  {
   "cell_type": "code",
   "execution_count": null,
   "metadata": {},
   "outputs": [],
   "source": [
    "TIME_PERIOD = 0.125\n",
    "\n",
    "# Create the serial data receiving thread\n",
    "serial_thread = threading.Thread(target=receive_serial_data, args=(offset_data_F_unwted,), daemon=True)\n",
    "\n",
    "# Create the audio playback thread\n",
    "audio_thread = threading.Thread(target=play_test_wave, daemon=True)\n",
    "\n",
    "# Start serial thread\n",
    "serial_thread.start()\n",
    "# Play tests\n",
    "audio_thread.start()\n",
    "\n",
    "# Wait for the threads to finish\n",
    "serial_thread.join()\n",
    "audio_thread.join()\n",
    "\n",
    "# Reset the flag for next test\n",
    "finish_flag = False"
   ]
  },
  {
   "cell_type": "markdown",
   "metadata": {},
   "source": [
    "### Periodo S, sin ponderación A"
   ]
  },
  {
   "cell_type": "code",
   "execution_count": null,
   "metadata": {},
   "outputs": [],
   "source": [
    "TIME_PERIOD = 1.0\n",
    "\n",
    "# Create the serial data receiving thread\n",
    "serial_thread = threading.Thread(target=receive_serial_data, args=(offset_data_S_unwted,), daemon=True)\n",
    "\n",
    "# Create the audio playback thread\n",
    "audio_thread = threading.Thread(target=play_test_wave, daemon=True)\n",
    "\n",
    "# Start serial thread\n",
    "serial_thread.start()\n",
    "# Play tests\n",
    "audio_thread.start()\n",
    "\n",
    "# Wait for the threads to finish\n",
    "serial_thread.join()\n",
    "audio_thread.join()\n",
    "\n",
    "# Reset the flag for next test\n",
    "finish_flag = False"
   ]
  },
  {
   "cell_type": "markdown",
   "metadata": {},
   "source": [
    "### Periodo F, con ponderación A"
   ]
  },
  {
   "cell_type": "code",
   "execution_count": null,
   "metadata": {},
   "outputs": [],
   "source": [
    "TIME_PERIOD = 0.125\n",
    "\n",
    "# Create the serial data receiving thread\n",
    "serial_thread = threading.Thread(target=receive_serial_data, args=(offset_data_F_wted,), daemon=True)\n",
    "\n",
    "# Create the audio playback thread\n",
    "audio_thread = threading.Thread(target=play_test_wave, daemon=True)\n",
    "\n",
    "# Start serial thread\n",
    "serial_thread.start()\n",
    "# Play tests\n",
    "audio_thread.start()\n",
    "\n",
    "# Wait for the threads to finish\n",
    "serial_thread.join()\n",
    "audio_thread.join()\n",
    "\n",
    "# Reset the flag for next test\n",
    "finish_flag = False"
   ]
  },
  {
   "cell_type": "markdown",
   "metadata": {},
   "source": [
    "### Periodo S, con ponderación A"
   ]
  },
  {
   "cell_type": "code",
   "execution_count": null,
   "metadata": {},
   "outputs": [],
   "source": [
    "TIME_PERIOD = 1.0\n",
    "\n",
    "# Create the serial data receiving thread\n",
    "serial_thread = threading.Thread(target=receive_serial_data, args=(offset_data_S_wted,), daemon=True)\n",
    "\n",
    "# Create the audio playback thread\n",
    "audio_thread = threading.Thread(target=play_test_wave, daemon=True)\n",
    "\n",
    "# Start serial thread\n",
    "serial_thread.start()\n",
    "# Play tests\n",
    "audio_thread.start()\n",
    "\n",
    "# Wait for the threads to finish\n",
    "serial_thread.join()\n",
    "audio_thread.join()\n",
    "\n",
    "# Reset the flag for next test\n",
    "finish_flag = False"
   ]
  },
  {
   "cell_type": "markdown",
   "metadata": {},
   "source": [
    "## Guardar datos"
   ]
  },
  {
   "cell_type": "code",
   "execution_count": 7,
   "metadata": {},
   "outputs": [],
   "source": [
    "offset_data_F_unwted = np.array([72, 71.9, 71.9, 71.9, 72, 72, 71.9, 72.2, 72.3, 72.1, 72.2, 72.1, 72, 72.1, 72.2\n",
    "])\n",
    "offset_data_S_unwted = np.array([72.2, 72.1, 72.1, 72.1, 72, 72.1, 72, 72, 72, 72.1, 72.2, 72.2, 72.2, 72.1, 72.3, 71.7\n",
    "])\n",
    "offset_data_F_wted = np.array([70, 71.3, 71.3, 71.2, 71, 71, 71, 71.9, 71.8, 71.4, 71.7, 72.1])\n",
    "offset_data_S_wted = np.array([70.2, 72.1, 72, 72.1, 72.3, 72.1, 72.2, 72.1, 72, 72.1, 72, 72.1, 72, 72, 72, 72, 72, 72.1, 72.1, 72.2, 72.2, 72.1, 72.1, 72.2, 72.2\n",
    "])"
   ]
  },
  {
   "cell_type": "code",
   "execution_count": 8,
   "metadata": {},
   "outputs": [],
   "source": [
    "offset_data_F_unwted_ref = np.array([70.6, 69.9, 70, 69.2, 69.6, 69.2, 69.3, 69.6, 69.9, 69.7, 69.7, 70, 69.6, 69.6, 66.4\n",
    "])\n",
    "offset_data_S_unwted_ref = np.array([70, 70, 70.1, 70.6, 70.3, 70.4, 70.3, 70.4, 70.3, 70.4, 70.3, 70.3, 70.2, 70.4, 70.5, 70.8\n",
    "])\n",
    "offset_data_F_wted_ref = np.array([68.7, 69.7, 69.8, 70, 69.6, 69.5, 69.6, 69.4, 69.3, 69.4, 69.4, 69.4])\n",
    "offset_data_S_wted_ref = np.array([69.2, 69.6, 69.7, 69.9, 69.6, 70, 69.6, 69.7, 69.8, 69.6, 69.7, 69.7, 69.6, 69.7, 69.7, 69.7, 70.6, 69.8, 69.7, 69.8, 69.7, 69.8, 70.3, 69.8, 69.7])"
   ]
  },
  {
   "cell_type": "code",
   "execution_count": 9,
   "metadata": {},
   "outputs": [],
   "source": [
    "with open(\"../results/offset/F_unwted.pkl\", \"wb\") as file:\n",
    "    pickle.dump(offset_data_F_unwted, file)\n",
    "\n",
    "with open(\"../results/offset/S_unwted.pkl\", \"wb\") as file:\n",
    "    pickle.dump(offset_data_S_unwted, file)\n",
    "\n",
    "with open(\"../results/offset/F_wted.pkl\", \"wb\") as file:\n",
    "    pickle.dump(offset_data_F_wted, file)\n",
    "\n",
    "with open(\"../results/offset/S_wted.pkl\", \"wb\") as file:\n",
    "    pickle.dump(offset_data_S_wted, file)"
   ]
  },
  {
   "cell_type": "code",
   "execution_count": null,
   "metadata": {},
   "outputs": [],
   "source": [
    "with open(\"../results/offset/F_unwted_ref.pkl\", \"wb\") as file:\n",
    "    pickle.dump(offset_data_F_unwted_ref, file)\n",
    "\n",
    "with open(\"../results/offset/S_unwted_ref.pkl\", \"wb\") as file:\n",
    "    pickle.dump(offset_data_S_unwted_ref, file)\n",
    "\n",
    "with open(\"../results/offset/F_wted_ref.pkl\", \"wb\") as file:\n",
    "    pickle.dump(offset_data_F_wted_ref, file)\n",
    "\n",
    "with open(\"../results/offset/S_wted_ref.pkl\", \"wb\") as file:\n",
    "    pickle.dump(offset_data_S_wted_ref, file)"
   ]
  }
 ],
 "metadata": {
  "kernelspec": {
   "display_name": ".venv",
   "language": "python",
   "name": "python3"
  },
  "language_info": {
   "codemirror_mode": {
    "name": "ipython",
    "version": 3
   },
   "file_extension": ".py",
   "mimetype": "text/x-python",
   "name": "python",
   "nbconvert_exporter": "python",
   "pygments_lexer": "ipython3",
   "version": "3.11.0"
  }
 },
 "nbformat": 4,
 "nbformat_minor": 2
}
