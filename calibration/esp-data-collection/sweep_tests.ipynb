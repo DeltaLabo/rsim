{
 "cells": [
  {
   "cell_type": "markdown",
   "metadata": {},
   "source": [
    "# Pruebas con barrido de frecuencia"
   ]
  },
  {
   "cell_type": "code",
   "execution_count": 1,
   "metadata": {},
   "outputs": [],
   "source": [
    "import threading\n",
    "import time\n",
    "import numpy as np\n",
    "import sounddevice as sd\n",
    "import serial\n",
    "from ctypes import cast, POINTER\n",
    "from comtypes import CLSCTX_ALL\n",
    "from pycaw.pycaw import AudioUtilities, IAudioEndpointVolume\n",
    "import matplotlib.pyplot as plt\n",
    "from ordered_set import OrderedSet"
   ]
  },
  {
   "cell_type": "code",
   "execution_count": null,
   "metadata": {},
   "outputs": [],
   "source": [
    "import sys\n",
    "sys.path.append('..')\n",
    "# Custom imports\n",
    "from analysis_utils import DataContainer\n",
    "from audio_constants import ref_volume, freq_response_waves, freq_sweep_waves, freq_weighting_waves"
   ]
  },
  {
   "cell_type": "code",
   "execution_count": 2,
   "metadata": {},
   "outputs": [],
   "source": [
    "ESP_COM_PORT = \"COM23\"\n",
    "ESP_BAUDRATE = 115200"
   ]
  },
  {
   "cell_type": "code",
   "execution_count": 4,
   "metadata": {},
   "outputs": [],
   "source": [
    "# Get the default audio playback device\n",
    "devices = AudioUtilities.GetSpeakers()\n",
    "interface = devices.Activate(\n",
    "    IAudioEndpointVolume._iid_, CLSCTX_ALL, None)\n",
    "\n",
    "# Create a volume control interface\n",
    "volume_controller = cast(interface, POINTER(IAudioEndpointVolume))"
   ]
  },
  {
   "cell_type": "code",
   "execution_count": 5,
   "metadata": {},
   "outputs": [],
   "source": [
    "# Variables for status syncronization between threads\n",
    "current_freq = 0\n",
    "current_volume = 0.0"
   ]
  },
  {
   "cell_type": "code",
   "execution_count": 15,
   "metadata": {},
   "outputs": [],
   "source": [
    "# Function to receive serial data and store it\n",
    "def receive_serial_data(data):\n",
    "    ser = serial.Serial(ESP_COM_PORT, ESP_BAUDRATE)  # Replace 'COM1' with your serial port\n",
    "    while not terminate_event.is_set():\n",
    "        received_data = ser.readline().decode().strip()\n",
    "        received_data = received_data.split(\" \")[0]\n",
    "        try:\n",
    "            received_data = float(received_data)\n",
    "        except ValueError:\n",
    "            received_data = float(received_data.split(\".\")[0])\n",
    "        try:\n",
    "            if log_flag:\n",
    "                data[current_freq][current_volume] = np.append(data[current_freq][current_volume], received_data)\n",
    "            if freq_flag:\n",
    "                data[current_freq][\"freq_all\"] = np.append(data[current_freq][\"freq_all\"], received_data)\n",
    "            data[\"all\"] = np.append(data[\"all\"], received_data)\n",
    "        except KeyError:\n",
    "            pass\n",
    "    ser.close()\n",
    "\n",
    "# Function to play audio sine waves\n",
    "def play_test_waves(test_waves):\n",
    "    global current_freq, current_volume, log_flag, freq_flag\n",
    "\n",
    "    duration = 2.5 if TIME_PERIOD == 0.125 else 20\n",
    "    sample_rate = 88200\n",
    "    t = np.arange(0, duration, 1 / sample_rate)\n",
    "\n",
    "    for freq in test_waves[\"frequencies\"]:\n",
    "        current_freq = freq\n",
    "        sine_wave = np.sin(2 * np.pi * freq * t)\n",
    "\n",
    "        for n, volume in enumerate(test_waves[\"volumes\"]):\n",
    "            current_volume = volume\n",
    "            print(f\"now playing: {volume} volume @ {freq} Hz\")\n",
    "\n",
    "            log_flag = True\n",
    "            if not freq_flag:\n",
    "                freq_flag = True\n",
    "\n",
    "            volume_controller.SetMasterVolumeLevelScalar(volume/10, None)\n",
    "\n",
    "            # Wait before playing the sine wave\n",
    "            time.sleep(0.375 if TIME_PERIOD == 0.125 else 3) #s\n",
    "\n",
    "            sd.play(sine_wave, sample_rate, blocking=True)\n",
    "\n",
    "            # Wait after playback is done\n",
    "            time.sleep(0.375 if TIME_PERIOD == 0.125 else 3) #s\n",
    "\n",
    "            log_flag = False\n",
    "            if n == (len(test_waves[\"volumes\"]) - 1):\n",
    "                freq_flag = False\n",
    "\n",
    "    # Send a signal to the other thread to terminate\n",
    "    terminate_event.set()"
   ]
  },
  {
   "cell_type": "code",
   "execution_count": 8,
   "metadata": {},
   "outputs": [],
   "source": [
    "# Doesn't sync the update times of the SLM and ESP, so it's not necessary\n",
    "def play_sync_impulses():\n",
    "    # Duration of the impulse in seconds\n",
    "    duration = 0.375 if TIME_PERIOD == 0.125 else 3 # s\n",
    "    sample_rate = 88200\n",
    "    t = np.arange(0, duration, 1 / sample_rate)\n",
    "\n",
    "    # Create an impulse signal\n",
    "    impulse = np.sin(2 * np.pi * 1000 * t)\n",
    "\n",
    "    # Wait before playing the impulse\n",
    "    time.sleep(0.375 if TIME_PERIOD == 0.125 else 3) #s\n",
    "\n",
    "    # Play the impulse\n",
    "    sd.play(impulse, sample_rate, blocking=True)\n",
    "\n",
    "    time.sleep(0.3 if TIME_PERIOD == 0.125 else 2)\n",
    "\n",
    "    sd.play(impulse, sample_rate, blocking=True)\n",
    "\n",
    "    time.sleep(0.6 if TIME_PERIOD == 0.125 else 4)\n",
    "\n",
    "    sd.play(impulse, sample_rate, blocking=True)\n",
    "\n",
    "    time.sleep(0.375 if TIME_PERIOD == 0.125 else 3)"
   ]
  },
  {
   "cell_type": "code",
   "execution_count": 16,
   "metadata": {},
   "outputs": [],
   "source": [
    "# Create formatted containers to store received serial data\n",
    "freq_response_data = DataContainer(freq_response_waves)\n",
    "freq_sweep_data_F = DataContainer(freq_sweep_waves)\n",
    "freq_sweep_data_S = DataContainer(freq_sweep_waves)\n",
    "freq_weighting_data = DataContainer(freq_weighting_waves)\n",
    "\n",
    "# Event to signal termination\n",
    "terminate_event = threading.Event()\n",
    "# Flag to signal when to log measurements\n",
    "log_flag = False\n",
    "# Flag to signal the duration of a level progression for a certain frequency\n",
    "freq_flag = False"
   ]
  },
  {
   "cell_type": "markdown",
   "metadata": {},
   "source": [
    "## Ejecutar pruebas"
   ]
  },
  {
   "cell_type": "markdown",
   "metadata": {},
   "source": [
    "### Respuesta de frecuencia y nivel"
   ]
  },
  {
   "cell_type": "code",
   "execution_count": null,
   "metadata": {},
   "outputs": [],
   "source": [
    "TIME_PERIOD = 0.125\n",
    "\n",
    "# *** Frequency response ***\n",
    "\n",
    "# Create the serial data receiving thread\n",
    "serial_thread = threading.Thread(target=receive_serial_data, args=(freq_response_data,), daemon=True)\n",
    "\n",
    "# Create the audio playback thread\n",
    "audio_thread = threading.Thread(target=play_test_waves, args=(freq_response_waves,), daemon=True)\n",
    "\n",
    "# Start serial thread\n",
    "serial_thread.start()\n",
    "# Play tests\n",
    "audio_thread.start()\n",
    "\n",
    "# Wait for the threads to finish\n",
    "serial_thread.join()\n",
    "audio_thread.join()\n",
    "\n",
    "# Reset the event for next test\n",
    "terminate_event.clear()"
   ]
  },
  {
   "cell_type": "markdown",
   "metadata": {},
   "source": [
    "### Barrido de frecuencia y nivel con periodo F"
   ]
  },
  {
   "cell_type": "code",
   "execution_count": 17,
   "metadata": {},
   "outputs": [
    {
     "name": "stdout",
     "output_type": "stream",
     "text": [
      "now playing: 0.03 volume @ 1000 Hz\n",
      "now playing: 0.04 volume @ 1000 Hz\n",
      "now playing: 0.05 volume @ 1000 Hz\n",
      "now playing: 0.03 volume @ 2000 Hz\n",
      "now playing: 0.04 volume @ 2000 Hz\n",
      "now playing: 0.05 volume @ 2000 Hz\n",
      "now playing: 0.03 volume @ 3000 Hz\n",
      "now playing: 0.04 volume @ 3000 Hz\n",
      "now playing: 0.05 volume @ 3000 Hz\n"
     ]
    }
   ],
   "source": [
    "TIME_PERIOD = 0.125\n",
    "\n",
    "# Create the serial data receiving thread\n",
    "serial_thread = threading.Thread(target=receive_serial_data, args=(freq_sweep_data_F,), daemon=True)\n",
    "\n",
    "# Create the audio playback thread\n",
    "audio_thread = threading.Thread(target=play_test_waves, args=(freq_sweep_waves,), daemon=True)\n",
    "\n",
    "# Start serial thread\n",
    "serial_thread.start()\n",
    "# Play tests\n",
    "audio_thread.start()\n",
    "\n",
    "# Wait for the threads to finish\n",
    "serial_thread.join()\n",
    "audio_thread.join()\n",
    "\n",
    "# Reset the event for next test\n",
    "terminate_event.clear()"
   ]
  },
  {
   "cell_type": "markdown",
   "metadata": {},
   "source": [
    "### Barrido de frecuencia y nivel con periodo S"
   ]
  },
  {
   "cell_type": "code",
   "execution_count": null,
   "metadata": {},
   "outputs": [],
   "source": [
    "TIME_PERIOD = 1.0\n",
    "\n",
    "# Create the serial data receiving thread\n",
    "serial_thread = threading.Thread(target=receive_serial_data, args=(freq_sweep_data_S,), daemon=True)\n",
    "\n",
    "# Create the audio playback thread\n",
    "audio_thread = threading.Thread(target=play_test_waves, args=(freq_sweep_waves,), daemon=True)\n",
    "\n",
    "# Start serial thread\n",
    "serial_thread.start()\n",
    "# Play tests\n",
    "audio_thread.start()\n",
    "\n",
    "# Wait for the threads to finish\n",
    "serial_thread.join()\n",
    "audio_thread.join()\n",
    "\n",
    "# Reset the event for next test\n",
    "terminate_event.clear()"
   ]
  },
  {
   "cell_type": "markdown",
   "metadata": {},
   "source": [
    "### Ponderación de frecuencia"
   ]
  },
  {
   "cell_type": "code",
   "execution_count": null,
   "metadata": {},
   "outputs": [],
   "source": [
    "TIME_PERIOD = 0.125\n",
    "\n",
    "# Create the serial data receiving thread\n",
    "serial_thread = threading.Thread(target=receive_serial_data, args=(freq_weighting_data,), daemon=True)\n",
    "\n",
    "# Create the audio playback thread\n",
    "audio_thread = threading.Thread(target=play_test_waves, args=(freq_weighting_waves,), daemon=True)\n",
    "\n",
    "# Start serial thread\n",
    "serial_thread.start()\n",
    "# Play tests\n",
    "audio_thread.start()\n",
    "\n",
    "# Wait for the threads to finish\n",
    "serial_thread.join()\n",
    "audio_thread.join()\n",
    "\n",
    "# Reset the event for next test\n",
    "terminate_event.clear()"
   ]
  },
  {
   "cell_type": "markdown",
   "metadata": {},
   "source": [
    "## Guardar datos"
   ]
  },
  {
   "cell_type": "code",
   "execution_count": null,
   "metadata": {},
   "outputs": [],
   "source": [
    "with open(\"../results/sweep_tests/freq_response.pkl\", 'wb') as file:\n",
    "    pickle.dump(freq_response_data, file)\n",
    "\n",
    "with open(\"../results/sweep_tests/freq_sweep_f.pkl\", 'wb') as file:\n",
    "    pickle.dump(freq_sweep_data_F, file)\n",
    "\n",
    "with open(\"../results/sweep_tests/freq_sweep_s.pkl\", 'wb') as file:\n",
    "    pickle.dump(freq_sweep_data_S, file)\n",
    "\n",
    "with open(\"../results/sweep_tests/freq_wting.pkl\", 'wb') as file:\n",
    "    pickle.dump(freq_weighting_data, file)"
   ]
  }
 ],
 "metadata": {
  "kernelspec": {
   "display_name": ".venv",
   "language": "python",
   "name": "python3"
  },
  "language_info": {
   "codemirror_mode": {
    "name": "ipython",
    "version": 3
   },
   "file_extension": ".py",
   "mimetype": "text/x-python",
   "name": "python",
   "nbconvert_exporter": "python",
   "pygments_lexer": "ipython3",
   "version": "3.11.0"
  }
 },
 "nbformat": 4,
 "nbformat_minor": 2
}
