{
 "cells": [
  {
   "cell_type": "markdown",
   "metadata": {},
   "source": [
    "# Pruebas con barrido de frecuencia"
   ]
  },
  {
   "cell_type": "code",
   "execution_count": 1,
   "metadata": {},
   "outputs": [],
   "source": [
    "import threading\n",
    "import queue\n",
    "import time\n",
    "import numpy as np\n",
    "import sounddevice as sd\n",
    "import serial\n",
    "import pickle\n",
    "from ctypes import cast, POINTER\n",
    "from comtypes import CLSCTX_ALL\n",
    "from pycaw.pycaw import AudioUtilities, IAudioEndpointVolume\n",
    "import matplotlib.pyplot as plt\n",
    "from ordered_set import OrderedSet"
   ]
  },
  {
   "cell_type": "code",
   "execution_count": 2,
   "metadata": {},
   "outputs": [],
   "source": [
    "import sys\n",
    "sys.path.append('..')\n",
    "# Custom imports\n",
    "from analysis_utils import DataContainer\n",
    "from audio_constants import ref_volume, freq_response_waves, freq_sweep_waves, freq_weighting_waves, dB_to_scalar"
   ]
  },
  {
   "cell_type": "code",
   "execution_count": 3,
   "metadata": {},
   "outputs": [],
   "source": [
    "ESP_COM_PORT = \"COM22\"\n",
    "ESP_BAUDRATE = 115200\n",
    "\n",
    "SLM_COM_PORT = \"COM23\"\n",
    "SLM_BAUDRATE = 115200"
   ]
  },
  {
   "cell_type": "code",
   "execution_count": 4,
   "metadata": {},
   "outputs": [],
   "source": [
    "# Get the default audio playback device\n",
    "devices = AudioUtilities.GetSpeakers()\n",
    "interface = devices.Activate(\n",
    "    IAudioEndpointVolume._iid_, CLSCTX_ALL, None)\n",
    "\n",
    "# Create a volume control interface\n",
    "volume_controller = cast(interface, POINTER(IAudioEndpointVolume))"
   ]
  },
  {
   "cell_type": "code",
   "execution_count": 5,
   "metadata": {},
   "outputs": [],
   "source": [
    "# Variables for status syncronization between threads\n",
    "current_freq = 0\n",
    "current_volume = 0.0"
   ]
  },
  {
   "cell_type": "code",
   "execution_count": 6,
   "metadata": {},
   "outputs": [],
   "source": [
    "# Function to receive serial data and store it\n",
    "def receive_esp_serial_data(data, queue):\n",
    "    ser = serial.Serial(ESP_COM_PORT, ESP_BAUDRATE)\n",
    "    while not finish_flag:\n",
    "        received_data = ser.readline().decode().strip()\n",
    "        received_data = received_data.split(\" \")[0]\n",
    "        try:\n",
    "            received_data = float(received_data)\n",
    "        except ValueError:\n",
    "            received_data = float(received_data.split(\".\")[0])\n",
    "        try:\n",
    "            if log_flag:\n",
    "                data[current_freq][current_volume] = np.append(data[current_freq][current_volume], received_data)\n",
    "        except KeyError:\n",
    "            pass\n",
    "    ser.close()\n",
    "    queue.put(data)\n",
    "\n",
    "# Function to receive serial data and store it\n",
    "def receive_slm_serial_data(data, queue):\n",
    "    ser = serial.Serial(SLM_COM_PORT, SLM_BAUDRATE)\n",
    "    while not finish_flag:\n",
    "        received_data = ser.readline().decode().strip()\n",
    "        received_data = received_data.split(\" \")[0]\n",
    "        try:\n",
    "            received_data = float(received_data)\n",
    "        except ValueError:\n",
    "            received_data = float(received_data.split(\".\")[0])\n",
    "        try:\n",
    "            if log_flag:\n",
    "                data[current_freq][current_volume] = np.append(data[current_freq][current_volume], received_data)\n",
    "        except KeyError:\n",
    "            pass\n",
    "    ser.close()\n",
    "    queue.put(data)\n",
    "\n",
    "# Function to play audio sine waves\n",
    "def play_test_waves(test_waves):\n",
    "    global current_freq, current_volume, log_flag, freq_flag, finish_flag\n",
    "\n",
    "    duration = 2.5 if TIME_PERIOD == 0.125 else 20\n",
    "    sample_rate = 88200\n",
    "    t = np.arange(0, duration, 1 / sample_rate)\n",
    "\n",
    "    finish_flag = False\n",
    "\n",
    "    for freq in test_waves[\"frequencies\"]:\n",
    "        current_freq = freq\n",
    "        sine_wave = np.sin(2 * np.pi * freq * t)\n",
    "\n",
    "        for n, volume in enumerate(test_waves[\"volumes\"]):\n",
    "            current_volume = volume\n",
    "            print(f\"now playing: {volume} volume @ {freq} Hz\")\n",
    "            log_flag = True\n",
    "            if not freq_flag:\n",
    "                freq_flag = True\n",
    "\n",
    "            volume_controller.SetMasterVolumeLevelScalar(dB_to_scalar[volume], None)\n",
    "\n",
    "            # Wait before playing the sine wave\n",
    "            time.sleep(0.375 if TIME_PERIOD == 0.125 else 3) #s\n",
    "\n",
    "            sd.play(sine_wave, sample_rate, blocking=True)\n",
    "\n",
    "            # Wait after playback is done\n",
    "            time.sleep(0.375 if TIME_PERIOD == 0.125 else 3) #s\n",
    "\n",
    "            log_flag = False\n",
    "            if n == (len(test_waves[\"volumes\"]) - 1):\n",
    "                freq_flag = False\n",
    "\n",
    "    # Send a signal to the other thread to terminate\n",
    "    finish_flag = True"
   ]
  },
  {
   "cell_type": "code",
   "execution_count": 7,
   "metadata": {},
   "outputs": [],
   "source": [
    "# Create formatted containers to store received serial data\n",
    "freq_response_data = DataContainer(freq_response_waves)\n",
    "freq_response_data_ref = DataContainer(freq_response_waves)\n",
    "freq_sweep_data_F = DataContainer(freq_sweep_waves)\n",
    "freq_sweep_data_F_ref = DataContainer(freq_sweep_waves)\n",
    "freq_sweep_data_S = DataContainer(freq_sweep_waves)\n",
    "freq_sweep_data_S_ref = DataContainer(freq_sweep_waves)\n",
    "freq_weighting_data = DataContainer(freq_weighting_waves)\n",
    "freq_weighting_data_ref = DataContainer(freq_weighting_waves)\n",
    "\n",
    "esp_queue = queue.Queue()\n",
    "slm_queue = queue.Queue()\n",
    "\n",
    "# Flag to signal termination\n",
    "finish_flag = False\n",
    "# Flag to signal when to log measurements\n",
    "log_flag = False"
   ]
  },
  {
   "cell_type": "markdown",
   "metadata": {},
   "source": [
    "## Ejecutar pruebas"
   ]
  },
  {
   "cell_type": "markdown",
   "metadata": {},
   "source": [
    "### Respuesta de frecuencia y nivel"
   ]
  },
  {
   "cell_type": "code",
   "execution_count": null,
   "metadata": {},
   "outputs": [],
   "source": [
    "TIME_PERIOD = 0.125\n",
    "\n",
    "# *** Frequency response ***\n",
    "\n",
    "# Create the serial data receiving thread\n",
    "esp_serial_thread = threading.Thread(target=receive_esp_serial_data, args=(freq_response_data,esp_queue), daemon=True)\n",
    "#slm_serial_thread = threading.Thread(target=receive_slm_serial_data, args=(freq_response_data_ref,slm_queue), daemon=True)\n",
    "\n",
    "# Create the audio playback thread\n",
    "audio_thread = threading.Thread(target=play_test_waves, args=(freq_response_waves,), daemon=True)\n",
    "\n",
    "# Start serial thread\n",
    "esp_serial_thread.start()\n",
    "#slm_serial_thread.start()\n",
    "# Play tests\n",
    "audio_thread.start()\n",
    "\n",
    "# Wait for the threads to finish\n",
    "esp_serial_thread.join()\n",
    "#slm_serial_thread.join()\n",
    "audio_thread.join()\n",
    "\n",
    "# Reset the flag for next test\n",
    "finish_flag = False\n",
    "\n",
    "# Retrieve data from the thread\n",
    "freq_response_data = esp_queue.get()\n",
    "#freq_response_data_ref = slm_queue.get()"
   ]
  },
  {
   "cell_type": "markdown",
   "metadata": {},
   "source": [
    "### Barrido de frecuencia y nivel con periodo F"
   ]
  },
  {
   "cell_type": "code",
   "execution_count": null,
   "metadata": {},
   "outputs": [],
   "source": [
    "TIME_PERIOD = 0.125\n",
    "\n",
    "# Create the serial data receiving thread\n",
    "esp_serial_thread = threading.Thread(target=receive_esp_serial_data, args=(freq_sweep_data_F,esp_queue), daemon=True)\n",
    "#slm_serial_thread = threading.Thread(target=receive_slm_serial_data, args=(freq_sweep_data_F_ref,slm_queue), daemon=True)\n",
    "\n",
    "# Create the audio playback thread\n",
    "audio_thread = threading.Thread(target=play_test_waves, args=(freq_sweep_waves,), daemon=True)\n",
    "\n",
    "# Start serial thread\n",
    "esp_serial_thread.start()\n",
    "#slm_serial_thread.start()\n",
    "# Play tests\n",
    "audio_thread.start()\n",
    "\n",
    "# Wait for the threads to finish\n",
    "esp_serial_thread.join()\n",
    "#slm_serial_thread.join()\n",
    "audio_thread.join()\n",
    "\n",
    "# Reset the flag for next test\n",
    "finish_flag = False\n",
    "\n",
    "# Retrieve data from the thread\n",
    "freq_sweep_data_F = esp_queue.get()\n",
    "#freq_sweep_data_F_ref = slm_queue.get()"
   ]
  },
  {
   "cell_type": "markdown",
   "metadata": {},
   "source": [
    "### Barrido de frecuencia y nivel con periodo S"
   ]
  },
  {
   "cell_type": "code",
   "execution_count": null,
   "metadata": {},
   "outputs": [],
   "source": [
    "TIME_PERIOD = 1.0\n",
    "\n",
    "# Create the serial data receiving thread\n",
    "esp_serial_thread = threading.Thread(target=receive_esp_serial_data, args=(freq_sweep_data_S,esp_queue), daemon=True)\n",
    "#slm_serial_thread = threading.Thread(target=receive_slm_serial_data, args=(freq_sweep_data_S_ref,slm_queue), daemon=True)\n",
    "\n",
    "# Create the audio playback thread\n",
    "audio_thread = threading.Thread(target=play_test_waves, args=(freq_sweep_waves,), daemon=True)\n",
    "\n",
    "# Start serial thread\n",
    "esp_serial_thread.start()\n",
    "#slm_serial_thread.start()\n",
    "# Play tests\n",
    "audio_thread.start()\n",
    "\n",
    "# Wait for the threads to finish\n",
    "esp_serial_thread.join()\n",
    "#slm_serial_thread.join()\n",
    "audio_thread.join()\n",
    "\n",
    "# Reset the flag for next test\n",
    "finish_flag = False\n",
    "\n",
    "# Retrieve data from the thread\n",
    "freq_sweep_data_S = esp_queue.get()\n",
    "#freq_sweep_data_S_ref = slm_queue.get()"
   ]
  },
  {
   "cell_type": "markdown",
   "metadata": {},
   "source": [
    "### Ponderación de frecuencia"
   ]
  },
  {
   "cell_type": "code",
   "execution_count": null,
   "metadata": {},
   "outputs": [],
   "source": [
    "TIME_PERIOD = 0.125\n",
    "\n",
    "# Create the serial data receiving thread\n",
    "esp_serial_thread = threading.Thread(target=receive_esp_serial_data, args=(freq_weighting_data,esp_queue), daemon=True)\n",
    "#slm_serial_thread = threading.Thread(target=receive_slm_serial_data, args=(freq_weighting_data_ref,slm_queue), daemon=True)\n",
    "\n",
    "# Create the audio playback thread\n",
    "audio_thread = threading.Thread(target=play_test_waves, args=(freq_weighting_waves,), daemon=True)\n",
    "\n",
    "# Start serial thread\n",
    "esp_serial_thread.start()\n",
    "#slm_serial_thread.start()\n",
    "# Play tests\n",
    "audio_thread.start()\n",
    "\n",
    "# Wait for the threads to finish\n",
    "esp_serial_thread.join()\n",
    "#slm_serial_thread.join()\n",
    "audio_thread.join()\n",
    "\n",
    "# Reset the flag for next test\n",
    "finish_flag = False\n",
    "\n",
    "# Retrieve data from the thread\n",
    "freq_weighting_data = esp_queue.get()\n",
    "#freq_weighting_data_ref = slm_queue.get()"
   ]
  },
  {
   "cell_type": "markdown",
   "metadata": {},
   "source": [
    "## Guardar datos"
   ]
  },
  {
   "cell_type": "code",
   "execution_count": 69,
   "metadata": {},
   "outputs": [],
   "source": [
    "with open(\"../results/sweep_tests/freq_response.pkl\", 'wb') as file:\n",
    "    pickle.dump(freq_response_data, file)\n",
    "\n",
    "with open(\"../results/sweep_tests/freq_sweep_f.pkl\", 'wb') as file:\n",
    "    pickle.dump(freq_sweep_data_F, file)\n",
    "\n",
    "with open(\"../results/sweep_tests/freq_sweep_s.pkl\", 'wb') as file:\n",
    "    pickle.dump(freq_sweep_data_S, file)\n",
    "\n",
    "with open(\"../results/sweep_tests/freq_wting.pkl\", 'wb') as file:\n",
    "    pickle.dump(freq_weighting_data, file)"
   ]
  },
  {
   "cell_type": "code",
   "execution_count": 71,
   "metadata": {},
   "outputs": [],
   "source": [
    "with open(\"../results/sweep_tests/freq_response_ref.pkl\", 'wb') as file:\n",
    "    pickle.dump(freq_response_data_ref, file)\n",
    "\n",
    "with open(\"../results/sweep_tests/freq_sweep_f_ref.pkl\", 'wb') as file:\n",
    "    pickle.dump(freq_sweep_data_F_ref, file)\n",
    "\n",
    "with open(\"../results/sweep_tests/freq_sweep_s_ref.pkl\", 'wb') as file:\n",
    "    pickle.dump(freq_sweep_data_S_ref, file)\n",
    "\n",
    "with open(\"../results/sweep_tests/freq_wting_ref.pkl\", 'wb') as file:\n",
    "    pickle.dump(freq_weighting_data_ref, file)"
   ]
  }
 ],
 "metadata": {
  "kernelspec": {
   "display_name": ".venv",
   "language": "python",
   "name": "python3"
  },
  "language_info": {
   "codemirror_mode": {
    "name": "ipython",
    "version": 3
   },
   "file_extension": ".py",
   "mimetype": "text/x-python",
   "name": "python",
   "nbconvert_exporter": "python",
   "pygments_lexer": "ipython3",
   "version": "3.11.0"
  }
 },
 "nbformat": 4,
 "nbformat_minor": 2
}
