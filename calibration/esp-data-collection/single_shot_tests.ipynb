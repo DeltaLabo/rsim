{
 "cells": [
  {
   "cell_type": "markdown",
   "metadata": {},
   "source": [
    "# Pruebas de una sola grabación"
   ]
  },
  {
   "cell_type": "code",
   "execution_count": 1,
   "metadata": {},
   "outputs": [
    {
     "name": "stdout",
     "output_type": "stream",
     "text": [
      "pygame 2.5.2 (SDL 2.28.3, Python 3.11.0)\n",
      "Hello from the pygame community. https://www.pygame.org/contribute.html\n"
     ]
    }
   ],
   "source": [
    "import threading\n",
    "import time\n",
    "import csv\n",
    "import numpy as np\n",
    "import sounddevice as sd\n",
    "import serial\n",
    "import pygame\n",
    "from ctypes import cast, POINTER\n",
    "from comtypes import CLSCTX_ALL\n",
    "from pycaw.pycaw import AudioUtilities, IAudioEndpointVolume\n",
    "import matplotlib.pyplot as plt\n",
    "from ordered_set import OrderedSet"
   ]
  },
  {
   "cell_type": "code",
   "execution_count": null,
   "metadata": {},
   "outputs": [],
   "source": [
    "import sys\n",
    "sys.path.append('..')\n",
    "# Custom imports\n",
    "from analysis_utils import DataContainer\n",
    "from audio_constants import ref_volume, ambient_volumes"
   ]
  },
  {
   "cell_type": "code",
   "execution_count": 5,
   "metadata": {},
   "outputs": [],
   "source": [
    "ESP_COM_PORT = \"COM23\"\n",
    "ESP_BAUDRATE = 115200"
   ]
  },
  {
   "cell_type": "code",
   "execution_count": 3,
   "metadata": {},
   "outputs": [],
   "source": [
    "# Get the default audio playback device\n",
    "devices = AudioUtilities.GetSpeakers()\n",
    "interface = devices.Activate(\n",
    "    IAudioEndpointVolume._iid_, CLSCTX_ALL, None)\n",
    "\n",
    "# Create a volume control interface\n",
    "volume_controller = cast(interface, POINTER(IAudioEndpointVolume))"
   ]
  },
  {
   "cell_type": "code",
   "execution_count": null,
   "metadata": {},
   "outputs": [],
   "source": [
    "# Sync variable between the serial and audio threads\n",
    "current_volume = 0.0"
   ]
  },
  {
   "cell_type": "code",
   "execution_count": 15,
   "metadata": {},
   "outputs": [],
   "source": [
    "# Function to receive serial data and store it\n",
    "def receive_serial_data(data, volume_dependent):\n",
    "    ser = serial.Serial(ESP_COM_PORT, ESP_BAUDRATE)  # Replace 'COM1' with your serial port\n",
    "    while not terminate_event.is_set():\n",
    "        received_data = ser.readline().decode().strip()\n",
    "        received_data = received_data.split(\" \")[0]\n",
    "        try:\n",
    "            received_data = float(received_data)\n",
    "        except ValueError:\n",
    "            received_data = float(received_data.split(\".\")[0])\n",
    "        try:\n",
    "            if log_flag:\n",
    "                if not volume_dependent:\n",
    "                    data = np.append(data, received_data)\n",
    "                else:\n",
    "                    data[current_volume] = np.append(data[current_volume], received_data)\n",
    "        except KeyError:\n",
    "            pass\n",
    "    ser.close()"
   ]
  },
  {
   "cell_type": "code",
   "execution_count": null,
   "metadata": {},
   "outputs": [],
   "source": [
    "# Function to play audio sine waves\n",
    "def play_time_weighting_wave():\n",
    "    duration = 10 # s\n",
    "    sample_rate = 88200\n",
    "    t = np.arange(0, duration, 1 / sample_rate)\n",
    "\n",
    "    sine_wave = np.sin(2 * np.pi * 1000 * t)\n",
    "    volume_controller.SetMasterVolumeLevelScalar(ref_db, None)\n",
    "\n",
    "    log_flag = True\n",
    "\n",
    "    # Wait before playing the sine wave\n",
    "    time.sleep(0.375 if TIME_PERIOD == 0.125 else 3) #s\n",
    "\n",
    "    sd.play(sine_wave, sample_rate, blocking=True)\n",
    "\n",
    "    # Wait after playback is done\n",
    "    time.sleep(20) #s\n",
    "\n",
    "    log_flag = False\n",
    "\n",
    "    # Send a signal to the other thread to terminate\n",
    "    terminate_event.set()\n",
    "\n",
    "# Function to play audio sine waves\n",
    "def play_stability_wave():\n",
    "    duration = 60 # s\n",
    "    sample_rate = 88200\n",
    "    t = np.arange(0, duration, 1 / sample_rate)\n",
    "\n",
    "    sine_wave = np.sin(2 * np.pi * 1000 * t)\n",
    "    volume_controller.SetMasterVolumeLevelScalar(ref_db, None)\n",
    "\n",
    "    log_flag = True\n",
    "\n",
    "    # Wait before playing the sine wave\n",
    "    time.sleep(0.375 if TIME_PERIOD == 0.125 else 3) #s\n",
    "\n",
    "    sd.play(sine_wave, sample_rate, blocking=True)\n",
    "\n",
    "    # Wait after playback is done\n",
    "    time.sleep(0.375 if TIME_PERIOD == 0.125 else 3) #s\n",
    "\n",
    "    log_flag = False\n",
    "\n",
    "    # Send a signal to the other thread to terminate\n",
    "    terminate_event.set()"
   ]
  },
  {
   "cell_type": "code",
   "execution_count": 9,
   "metadata": {},
   "outputs": [],
   "source": [
    "# Function to play ambient noise\n",
    "def play_ambient_noise():\n",
    "    # Initialize the pygame mixer\n",
    "    pygame.mixer.init()\n",
    "\n",
    "    # Load your MP3 file\n",
    "    mp3_file = \"people-talking-in-small-room-30s.mp3\" if TIME_PERIOD == 0.125 else \"people-talking-in-small-room-60s.mp3\" \n",
    "\n",
    "    # Create a pygame Sound object from the MP3 file\n",
    "    sound = pygame.mixer.Sound(mp3_file)\n",
    "\n",
    "    for volume in ambient_volumes:\n",
    "        global current_volume\n",
    "        current_volume = volume\n",
    "        volume_controller.SetMasterVolumeLevelScalar(volume, None)\n",
    "\n",
    "        log_flag = True\n",
    "\n",
    "        # Wait before playing the audio\n",
    "        time.sleep(0.375 if TIME_PERIOD == 0.125 else 3) #s\n",
    "\n",
    "        # Play the MP3 file\n",
    "        sound.play()\n",
    "\n",
    "        # Wait for the sound to finish\n",
    "        pygame.time.delay(int(sound.get_length() * 1000))\n",
    "\n",
    "        # Wait after playback is done\n",
    "        time.sleep(0.375 if TIME_PERIOD == 0.125 else 3 ) #s\n",
    "\n",
    "        log_flag = False\n",
    "\n",
    "    # Send a signal to the other thread to terminate\n",
    "    terminate_event.set()\n",
    "\n",
    "    # Quit pygame mixer when done\n",
    "    pygame.mixer.quit()"
   ]
  },
  {
   "cell_type": "code",
   "execution_count": 7,
   "metadata": {},
   "outputs": [],
   "source": [
    "# Create formatted containers to store received serial data\n",
    "time_weighting_data_F = np.array([])\n",
    "time_weighting_data_S = np.array([])\n",
    "stability_data = np.array([])\n",
    "\n",
    "for volume in ambient_volumes:\n",
    "    ambient_data_F[volume] = np.array([])\n",
    "    ambient_data_S[volume] = np.array([])\n",
    "\n",
    "# Event to signal termination\n",
    "terminate_event = threading.Event()\n",
    "# Flag to signal when to log measurements\n",
    "log_flag = False"
   ]
  },
  {
   "cell_type": "markdown",
   "metadata": {},
   "source": [
    "## Ejecutar pruebas"
   ]
  },
  {
   "cell_type": "markdown",
   "metadata": {},
   "source": [
    "### Ponderación de tiempo con periodo F"
   ]
  },
  {
   "cell_type": "code",
   "execution_count": null,
   "metadata": {},
   "outputs": [],
   "source": [
    "TIME_PERIOD = 0.125\n",
    "\n",
    "# Create the serial data receiving thread\n",
    "serial_thread = threading.Thread(target=receive_serial_data, args=(time_weighting_data_F,False), daemon=True)\n",
    "\n",
    "# Create the audio playback thread\n",
    "audio_thread = threading.Thread(target=play_time_weighting_wave, daemon=True)\n",
    "\n",
    "# Start serial thread\n",
    "serial_thread.start()\n",
    "# Play tests\n",
    "audio_thread.start()\n",
    "\n",
    "# Wait for the threads to finish\n",
    "serial_thread.join()\n",
    "audio_thread.join()\n",
    "\n",
    "# Reset the event for next test\n",
    "terminate_event.clear()"
   ]
  },
  {
   "cell_type": "markdown",
   "metadata": {},
   "source": [
    "### Ponderación de tiempo con periodo S"
   ]
  },
  {
   "cell_type": "code",
   "execution_count": null,
   "metadata": {},
   "outputs": [],
   "source": [
    "TIME_PERIOD = 1.0\n",
    "\n",
    "# Create the serial data receiving thread\n",
    "serial_thread = threading.Thread(target=receive_serial_data, args=(time_weighting_data_S,False), daemon=True)\n",
    "\n",
    "# Create the audio playback thread\n",
    "audio_thread = threading.Thread(target=play_time_weighting_wave, daemon=True)\n",
    "\n",
    "# Start serial thread\n",
    "serial_thread.start()\n",
    "# Play tests\n",
    "audio_thread.start()\n",
    "\n",
    "# Wait for the threads to finish\n",
    "serial_thread.join()\n",
    "audio_thread.join()\n",
    "\n",
    "# Reset the event for next test\n",
    "terminate_event.clear()"
   ]
  },
  {
   "cell_type": "markdown",
   "metadata": {},
   "source": [
    "### Estabilidad"
   ]
  },
  {
   "cell_type": "code",
   "execution_count": null,
   "metadata": {},
   "outputs": [],
   "source": [
    "TIME_PERIOD = 0.125\n",
    "\n",
    "# Create the serial data receiving thread\n",
    "serial_thread = threading.Thread(target=receive_serial_data, args=(stability_data, False), daemon=True)\n",
    "\n",
    "# Create the audio playback thread\n",
    "audio_thread = threading.Thread(target=play_stability_wave, daemon=True)\n",
    "\n",
    "# Start serial thread\n",
    "serial_thread.start()\n",
    "# Play tests\n",
    "audio_thread.start()\n",
    "\n",
    "# Wait for the threads to finish\n",
    "serial_thread.join()\n",
    "audio_thread.join()\n",
    "\n",
    "# Reset the event for next test\n",
    "terminate_event.clear()"
   ]
  },
  {
   "cell_type": "markdown",
   "metadata": {},
   "source": [
    "### Ruido ambiental con periodo F"
   ]
  },
  {
   "cell_type": "code",
   "execution_count": null,
   "metadata": {},
   "outputs": [],
   "source": [
    "TIME_PERIOD = 0.125\n",
    "\n",
    "# Create the serial data receiving thread\n",
    "serial_thread = threading.Thread(target=receive_serial_data, args=(ambient_data_F, True), daemon = True)\n",
    "\n",
    "# Create the audio playback thread\n",
    "audio_thread = threading.Thread(target=play_ambient_noise, daemon = True)\n",
    "\n",
    "# Start serial thread\n",
    "serial_thread.start()\n",
    "# Play tests\n",
    "audio_thread.start()\n",
    "\n",
    "# Wait for the threads to finish\n",
    "serial_thread.join()\n",
    "audio_thread.join()\n",
    "\n",
    "# Reset the event for next test\n",
    "terminate_event.clear()"
   ]
  },
  {
   "cell_type": "markdown",
   "metadata": {},
   "source": [
    "### Ruido ambiental con periodo S"
   ]
  },
  {
   "cell_type": "code",
   "execution_count": null,
   "metadata": {},
   "outputs": [],
   "source": [
    "TIME_PERIOD = 1.0\n",
    "\n",
    "# Create the serial data receiving thread\n",
    "serial_thread = threading.Thread(target=receive_serial_data, args=(ambient_data_S, True), daemon=True)\n",
    "\n",
    "# Create the audio playback thread\n",
    "audio_thread = threading.Thread(target=play_ambient_noise, daemon=True)\n",
    "\n",
    "# Start serial thread\n",
    "serial_thread.start()\n",
    "# Play tests\n",
    "audio_thread.start()\n",
    "\n",
    "# Wait for the threads to finish\n",
    "serial_thread.join()\n",
    "audio_thread.join()\n",
    "\n",
    "# Reset the event for next test\n",
    "terminate_event.clear()"
   ]
  },
  {
   "cell_type": "markdown",
   "metadata": {},
   "source": [
    "## Guardar datos"
   ]
  },
  {
   "cell_type": "code",
   "execution_count": null,
   "metadata": {},
   "outputs": [],
   "source": [
    "with open(\"../results/single_shot_tests/t_wting_f.pkl\", 'wb') as file:\n",
    "    pickle.dump(time_weighting_data_F, file)\n",
    "\n",
    "with open(\"../results/single_shot_tests/t_wting_s.pkl\", 'wb') as file:\n",
    "    pickle.dump(time_weighting_data_S, file)\n",
    "\n",
    "with open(\"../results/single_shot_tests/stability.pkl\", 'wb') as file:\n",
    "    pickle.dump(stability_data, file)\n",
    "\n",
    "with open(\"../results/single_shot_tests/ambient_f.pkl\", 'wb') as file:\n",
    "    pickle.dump(ambient_data_F, file)\n",
    "\n",
    "with open(\"../results/single_shot_tests/ambient_s.pkl\", 'wb') as file:\n",
    "    pickle.dump(ambient_data_S, file)"
   ]
  }
 ],
 "metadata": {
  "kernelspec": {
   "display_name": ".venv",
   "language": "python",
   "name": "python3"
  },
  "language_info": {
   "codemirror_mode": {
    "name": "ipython",
    "version": 3
   },
   "file_extension": ".py",
   "mimetype": "text/x-python",
   "name": "python",
   "nbconvert_exporter": "python",
   "pygments_lexer": "ipython3",
   "version": "3.11.0"
  }
 },
 "nbformat": 4,
 "nbformat_minor": 2
}
