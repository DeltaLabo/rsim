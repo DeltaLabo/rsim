{
 "cells": [
  {
   "cell_type": "markdown",
   "metadata": {},
   "source": [
    "# Calibración de frecuencia"
   ]
  },
  {
   "cell_type": "code",
   "execution_count": 10,
   "metadata": {},
   "outputs": [],
   "source": [
    "import threading\n",
    "import time\n",
    "import csv\n",
    "import numpy as np\n",
    "import sounddevice as sd\n",
    "import serial\n",
    "from ctypes import cast, POINTER\n",
    "from comtypes import CLSCTX_ALL\n",
    "from pycaw.pycaw import AudioUtilities, IAudioEndpointVolume\n",
    "import matplotlib.pyplot as plt"
   ]
  },
  {
   "cell_type": "code",
   "execution_count": 2,
   "metadata": {},
   "outputs": [],
   "source": [
    "SLM_COM_PORT = \"COM22\"\n",
    "SLM_BAUDRATE = 115200\n",
    "SLM_PERIOD = 0.125"
   ]
  },
  {
   "cell_type": "code",
   "execution_count": 3,
   "metadata": {},
   "outputs": [],
   "source": [
    "# Frequencies taken from IEC 61672-1 and rounded to one decimal place\n",
    "iec61672_freqs = (\n",
    "    100.0, 125.9, 158.5, 199.5, 251.2, 316.2, \n",
    "    398.1, 501.2, 631.0, 794.3, 1000.0, 1258.9, 1584.9, 1995.3, # Up to 2 kHz at 1/3-octave\n",
    "    2238.7, 2511.9, 2818.4, 3162.3, 3548.1, 3984.1, 4466.8, 5011.9, 5623.4, 6309.6, \n",
    "    7079.5, 7943.3, # 2 to 8 kHz at 1/6-octave\n",
    "    8414.0, 8912.5, 9440.6, 10000.0, 10593.0, 11220.0, 11885.0, 12589.0, 13335.0, 14125.0,\n",
    "    14962.0, 15849.0, 16788.0, 17783.0, 18836.0, 19953.0 # Up to 20 kHz at 1/12-octave\n",
    ")\n",
    "\n",
    "freq_response_waves = {\n",
    "    \"frequencies\": iec61672_freqs,\n",
    "    \"volumes\": (0.01, 0.02, 0.03, 0.04, 0.05, 0.06)\n",
    "}\n",
    "\n",
    "freq_sweep_waves = {\n",
    "    \"frequencies\": (1000, 8000, 12000),\n",
    "    \"volumes\": (0.01, 0.02, 0.03, 0.04, 0.05, 0.06)\n",
    "}\n",
    "\n",
    "freq_weighting_waves = {\n",
    "    \"frequencies\": iec61672_freqs,\n",
    "    \"volumes\": (0.01, 0.02, 0.03, 0.04, 0.05, 0.06)\n",
    "}"
   ]
  },
  {
   "cell_type": "code",
   "execution_count": 4,
   "metadata": {},
   "outputs": [],
   "source": [
    "# Get the default audio playback device\n",
    "devices = AudioUtilities.GetSpeakers()\n",
    "interface = devices.Activate(\n",
    "    IAudioEndpointVolume._iid_, CLSCTX_ALL, None)\n",
    "\n",
    "# Create a volume control interface\n",
    "volume_controller = cast(interface, POINTER(IAudioEndpointVolume))"
   ]
  },
  {
   "cell_type": "code",
   "execution_count": 16,
   "metadata": {},
   "outputs": [],
   "source": [
    "# Variables for status syncronization between threads\n",
    "current_freq = 0\n",
    "current_volume = 0.0"
   ]
  },
  {
   "cell_type": "code",
   "execution_count": 23,
   "metadata": {},
   "outputs": [],
   "source": [
    "# Format the data container for the specified test waves\n",
    "def format_data(data, test_waves):\n",
    "    for freq in test_waves[\"frequencies\"]:\n",
    "        data[freq] = {}\n",
    "\n",
    "        for volume in test_waves[\"volumes\"]:\n",
    "            data[freq][volume] = []\n",
    "\n",
    "# Function to receive serial data and store it\n",
    "def receive_serial_data(data):\n",
    "    ser = serial.Serial(SLM_COM_PORT, SLM_BAUDRATE)  # Replace 'COM1' with your serial port\n",
    "    while not terminate_event.is_set():\n",
    "        received_data = ser.readline().decode().strip()\n",
    "        received_data = received_data.split(\" \")[0]\n",
    "        try:\n",
    "            received_data = float(received_data)\n",
    "        except ValueError:\n",
    "            received_data = float(received_data.split(\".\")[0])\n",
    "        try:\n",
    "            if log_flag: \n",
    "                data[current_freq][current_volume].append(received_data)\n",
    "        except KeyError:\n",
    "            pass\n",
    "    ser.close()\n",
    "\n",
    "# Function to play audio sine waves\n",
    "def play_test_waves(test_waves):\n",
    "    duration = 2.5 if SLM_PERIOD == 0.125 else 20\n",
    "    sample_rate = 88200\n",
    "    t = np.arange(0, duration, 1 / sample_rate)\n",
    "\n",
    "    for freq in test_waves[\"frequencies\"]:\n",
    "        current_freq = freq\n",
    "        sine_wave = np.sin(2 * np.pi * freq * t)\n",
    "\n",
    "        for volume in test_waves[\"volumes\"]:\n",
    "            current_volume = volume\n",
    "            log_flag = True\n",
    "\n",
    "            volume_controller.SetMasterVolumeLevelScalar(volume, None)\n",
    "\n",
    "            # Wait before playing the sine wave\n",
    "            time.sleep(0.5 if SLM_PERIOD == 0.125 else 3) #s\n",
    "\n",
    "            sd.play(sine_wave, sample_rate, blocking=True)\n",
    "\n",
    "            # Wait after playback is done\n",
    "            time.sleep(0.5 if SLM_PERIOD == 0.125 else 3) #s\n",
    "        \n",
    "        log_flag = False\n",
    "\n",
    "    # Send a signal to the other thread to terminate\n",
    "    terminate_event.set()"
   ]
  },
  {
   "cell_type": "code",
   "execution_count": 6,
   "metadata": {},
   "outputs": [],
   "source": [
    "def play_sync_impulses():\n",
    "    # Duration of the impulse in seconds\n",
    "    duration = 0.09 if SLM_PERIOD == 0.125 else 0.9 # s\n",
    "    sample_rate = 88200\n",
    "    t = np.arange(0, duration, 1 / sample_rate)\n",
    "\n",
    "    # Create an impulse signal\n",
    "    impulse = np.sin(2 * np.pi * 1000 * t)\n",
    "\n",
    "    # Wait before playing the impulse\n",
    "    time.sleep(0.5 if SLM_PERIOD == 0.125 else 3) #s\n",
    "\n",
    "    # Play the impulse\n",
    "    sd.play(impulse, sample_rate, blocking=True)\n",
    "\n",
    "    time.sleep(0.3 if SLM_PERIOD == 0.125 else 2)\n",
    "\n",
    "    sd.play(impulse, sample_rate, blocking=True)\n",
    "\n",
    "    time.sleep(0.6 if SLM_PERIOD == 0.125 else 4)\n",
    "\n",
    "    sd.play(impulse, sample_rate, blocking=True)\n",
    "\n",
    "    time.sleep(0.5 if SLM_PERIOD == 0.125 else 3)"
   ]
  },
  {
   "cell_type": "code",
   "execution_count": 24,
   "metadata": {},
   "outputs": [],
   "source": [
    "# Create containers to store received serial data\n",
    "freq_response_data = {}\n",
    "freq_sweep_data = {}\n",
    "freq_weighting_data = {}\n",
    "\n",
    "# Format the containers\n",
    "format_data(freq_response_data, freq_response_waves)\n",
    "format_data(freq_sweep_data, freq_sweep_waves)\n",
    "format_data(freq_weighting_data, freq_weighting_waves)\n",
    "\n",
    "# Event to signal termination\n",
    "terminate_event = threading.Event()\n",
    "# Flag to signal when to log measurements\n",
    "log_flag = False"
   ]
  },
  {
   "cell_type": "markdown",
   "metadata": {},
   "source": [
    "## Ejecutar pruebas"
   ]
  },
  {
   "cell_type": "code",
   "execution_count": null,
   "metadata": {},
   "outputs": [],
   "source": [
    "# *** Frequency response ***\n",
    "\n",
    "# Create the serial data receiving thread\n",
    "serial_thread = threading.Thread(target=receive_serial_data, args=(freq_response_data,))\n",
    "serial_thread.daemon = True\n",
    "\n",
    "# Create the audio playback thread\n",
    "audio_thread = threading.Thread(target=play_test_waves, args=(freq_response_waves,))\n",
    "audio_thread.daemon = True\n",
    "\n",
    "# Start serial thread\n",
    "serial_thread.start()\n",
    "# Play sync impulses\n",
    "play_sync_impulses()\n",
    "# Play tests\n",
    "audio_thread.start()\n",
    "\n",
    "# Wait for the threads to finish\n",
    "serial_thread.join()\n",
    "audio_thread.join()\n",
    "\n",
    "# Reset the event for next test\n",
    "terminate_event.clear()"
   ]
  },
  {
   "cell_type": "code",
   "execution_count": 26,
   "metadata": {},
   "outputs": [],
   "source": [
    "# *** Frequency sweep ***\n",
    "\n",
    "# Create the serial data receiving thread\n",
    "serial_thread = threading.Thread(target=receive_serial_data, args=(freq_sweep_data,))\n",
    "serial_thread.daemon = True\n",
    "\n",
    "# Create the audio playback thread\n",
    "audio_thread = threading.Thread(target=play_test_waves, args=(freq_sweep_waves,))\n",
    "audio_thread.daemon = True\n",
    "\n",
    "# Start serial thread\n",
    "serial_thread.start()\n",
    "# Play sync impulses\n",
    "play_sync_impulses()\n",
    "# Play tests\n",
    "audio_thread.start()\n",
    "\n",
    "# Wait for the threads to finish\n",
    "serial_thread.join()\n",
    "audio_thread.join()\n",
    "\n",
    "# Reset the event for next test\n",
    "terminate_event.clear()"
   ]
  },
  {
   "cell_type": "code",
   "execution_count": 27,
   "metadata": {},
   "outputs": [
    {
     "name": "stdout",
     "output_type": "stream",
     "text": [
      "{1000: {0.01: [], 0.02: [], 0.03: [], 0.04: [], 0.05: [], 0.06: []}, 8000: {0.01: [], 0.02: [], 0.03: [], 0.04: [], 0.05: [], 0.06: []}, 12000: {0.01: [], 0.02: [], 0.03: [], 0.04: [], 0.05: [], 0.06: []}}\n"
     ]
    }
   ],
   "source": [
    "print(freq_sweep_data)"
   ]
  },
  {
   "cell_type": "code",
   "execution_count": 13,
   "metadata": {},
   "outputs": [
    {
     "data": {
      "image/png": "[encoded data removed]",
      "text/plain": [
       "<Figure size 640x480 with 1 Axes>"
      ]
     },
     "metadata": {},
     "output_type": "display_data"
    }
   ],
   "source": [
    "# Create x-axis values\n",
    "x_axis = [x * SLM_PERIOD for x in range(len(freq_sweep_data))]\n",
    "\n",
    "# Create a plot\n",
    "plt.plot(x_axis, freq_sweep_data)\n",
    "\n",
    "# Add labels and a title (optional)\n",
    "plt.xlabel(\"s\")\n",
    "plt.ylabel(\"dBA\")\n",
    "plt.title(\"Freq. sweep (ESP)\")\n",
    "\n",
    "# Show the plot\n",
    "plt.show()"
   ]
  },
  {
   "cell_type": "code",
   "execution_count": null,
   "metadata": {},
   "outputs": [],
   "source": [
    "# *** Frequency weighting ***\n",
    "\n",
    "# Create the serial data receiving thread\n",
    "serial_thread = threading.Thread(target=receive_serial_data, args=(freq_weighting_data,))\n",
    "serial_thread.daemon = True\n",
    "\n",
    "# Create the audio playback thread\n",
    "audio_thread = threading.Thread(target=play_test_waves, args=(freq_weighting_waves,))\n",
    "audio_thread.daemon = True\n",
    "\n",
    "# Start serial thread\n",
    "serial_thread.start()\n",
    "# Play sync impulses\n",
    "play_sync_impulses()\n",
    "# Play tests\n",
    "audio_thread.start()\n",
    "\n",
    "# Wait for the threads to finish\n",
    "serial_thread.join()\n",
    "audio_thread.join()\n",
    "\n",
    "# Reset the event for next test\n",
    "terminate_event.clear()"
   ]
  },
  {
   "cell_type": "markdown",
   "metadata": {},
   "source": [
    "## Analizar datos"
   ]
  },
  {
   "cell_type": "code",
   "execution_count": null,
   "metadata": {},
   "outputs": [],
   "source": []
  }
 ],
 "metadata": {
  "kernelspec": {
   "display_name": ".venv",
   "language": "python",
   "name": "python3"
  },
  "language_info": {
   "codemirror_mode": {
    "name": "ipython",
    "version": 3
   },
   "file_extension": ".py",
   "mimetype": "text/x-python",
   "name": "python",
   "nbconvert_exporter": "python",
   "pygments_lexer": "ipython3",
   "version": "3.11.0"
  }
 },
 "nbformat": 4,
 "nbformat_minor": 2
}
