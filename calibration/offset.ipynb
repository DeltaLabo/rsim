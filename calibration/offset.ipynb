{
 "cells": [
  {
   "cell_type": "markdown",
   "metadata": {},
   "source": [
    "# Offset"
   ]
  },
  {
   "cell_type": "code",
   "execution_count": 1,
   "metadata": {},
   "outputs": [
    {
     "name": "stdout",
     "output_type": "stream",
     "text": [
      "pygame 2.5.2 (SDL 2.28.3, Python 3.11.0)\n",
      "Hello from the pygame community. https://www.pygame.org/contribute.html\n"
     ]
    }
   ],
   "source": [
    "import threading\n",
    "import time\n",
    "import numpy as np\n",
    "import sounddevice as sd\n",
    "import serial\n",
    "from ctypes import cast, POINTER\n",
    "from comtypes import CLSCTX_ALL\n",
    "from pycaw.pycaw import AudioUtilities, IAudioEndpointVolume\n",
    "import matplotlib.pyplot as plt\n",
    "from ordered_set import OrderedSet\n",
    "import pickle"
   ]
  },
  {
   "cell_type": "code",
   "execution_count": 5,
   "metadata": {},
   "outputs": [],
   "source": [
    "ESP_COM_PORT = \"COM23\"\n",
    "ESP_BAUDRATE = 115200\n",
    "TIME_PERIOD = 0.125\n",
    "ref_db = 0.51"
   ]
  },
  {
   "cell_type": "code",
   "execution_count": 3,
   "metadata": {},
   "outputs": [],
   "source": [
    "# Get the default audio playback device\n",
    "devices = AudioUtilities.GetSpeakers()\n",
    "interface = devices.Activate(\n",
    "    IAudioEndpointVolume._iid_, CLSCTX_ALL, None)\n",
    "\n",
    "# Create a volume control interface\n",
    "volume_controller = cast(interface, POINTER(IAudioEndpointVolume))"
   ]
  },
  {
   "cell_type": "code",
   "execution_count": 15,
   "metadata": {},
   "outputs": [],
   "source": [
    "# Function to receive serial data and store it\n",
    "def receive_serial_data(data):\n",
    "    ser = serial.Serial(ESP_COM_PORT, ESP_BAUDRATE)  # Replace 'COM1' with your serial port\n",
    "    while not terminate_event.is_set():\n",
    "        received_data = ser.readline().decode().strip()\n",
    "        received_data = received_data.split(\" \")[0]\n",
    "        try:\n",
    "            received_data = float(received_data)\n",
    "        except ValueError:\n",
    "            received_data = float(received_data.split(\".\")[0])\n",
    "        try:\n",
    "            if log_flag:\n",
    "                data = np.append(data, received_data)\n",
    "        except KeyError:\n",
    "            pass\n",
    "    ser.close()"
   ]
  },
  {
   "cell_type": "code",
   "execution_count": null,
   "metadata": {},
   "outputs": [],
   "source": [
    "# Function to play audio sine wave\n",
    "def play_test_wave():\n",
    "    duration = 15 if TIME_PERIOD == 0.125 else 30 # s\n",
    "    sample_rate = 88200\n",
    "    t = np.arange(0, duration, 1 / sample_rate)\n",
    "\n",
    "    sine_wave = np.sin(2 * np.pi * 1000 * t)\n",
    "    volume_controller.SetMasterVolumeLevelScalar(ref_db, None)\n",
    "\n",
    "    log_flag = True\n",
    "\n",
    "    # Wait before playing the sine wave\n",
    "    time.sleep(0.375 if TIME_PERIOD == 0.125 else 3) #s\n",
    "\n",
    "    sd.play(sine_wave, sample_rate, blocking=True)\n",
    "\n",
    "    # Wait after playback is done\n",
    "    time.sleep(0.375 if TIME_PERIOD == 0.125 else 3) #s\n",
    "\n",
    "    log_flag = False\n",
    "\n",
    "    # Send a signal to the other thread to terminate\n",
    "    terminate_event.set()"
   ]
  },
  {
   "cell_type": "code",
   "execution_count": 7,
   "metadata": {},
   "outputs": [],
   "source": [
    "# Create formatted container to store received serial data\n",
    "offset_data = np.array([])\n",
    "\n",
    "# Event to signal termination\n",
    "terminate_event = threading.Event()\n",
    "# Flag to signal when to log measurements\n",
    "log_flag = False"
   ]
  },
  {
   "cell_type": "markdown",
   "metadata": {},
   "source": [
    "## Ejecutar prueba"
   ]
  },
  {
   "cell_type": "code",
   "execution_count": null,
   "metadata": {},
   "outputs": [],
   "source": [
    "# Create the serial data receiving thread\n",
    "serial_thread = threading.Thread(target=receive_serial_data, args=(offset_data,))\n",
    "serial_thread.daemon = True\n",
    "\n",
    "# Create the audio playback thread\n",
    "audio_thread = threading.Thread(target=play_test_wave)\n",
    "audio_thread.daemon = True\n",
    "\n",
    "# Start serial thread\n",
    "serial_thread.start()\n",
    "# Play tests\n",
    "audio_thread.start()\n",
    "\n",
    "# Wait for the threads to finish\n",
    "serial_thread.join()\n",
    "audio_thread.join()\n",
    "\n",
    "# Reset the event for next test\n",
    "terminate_event.clear()"
   ]
  },
  {
   "cell_type": "markdown",
   "metadata": {},
   "source": [
    "## Guardar datos"
   ]
  },
  {
   "cell_type": "markdown",
   "metadata": {},
   "source": [
    "## Procesar datos del sonómetro"
   ]
  },
  {
   "cell_type": "code",
   "execution_count": null,
   "metadata": {},
   "outputs": [],
   "source": [
    "# Convert the SLM reference data to the same format as the ESP measurements\n",
    "reference = {}"
   ]
  },
  {
   "cell_type": "markdown",
   "metadata": {},
   "source": [
    "## Analizar datos"
   ]
  },
  {
   "cell_type": "code",
   "execution_count": 42,
   "metadata": {},
   "outputs": [],
   "source": [
    "# TODO: Delete\n",
    "# Test datasets\n",
    "test1 = np.random.uniform(33, 92, size=(100,))\n",
    "test2 = np.random.uniform(33, 92, size=(100,))"
   ]
  },
  {
   "cell_type": "code",
   "execution_count": 50,
   "metadata": {},
   "outputs": [],
   "source": [
    "# Plot the sound level progression with respect to time, for each frequency\n",
    "def plot_time_progression(measurements, reference, units, title):\n",
    "    for freq in measurements.frequencies:\n",
    "        # Create x-axis values\n",
    "        x_axis = [x * TIME_PERIOD for x in range(len(measurements))]\n",
    "\n",
    "        # Create a plot\n",
    "        plt.plot(x_axis, measurements, label=\"ESP\")\n",
    "        plt.plot(x_axis, reference, label=\"SLM\")\n",
    "\n",
    "        # Add labels and a title (optional)\n",
    "        plt.xlabel(\"s\")\n",
    "        plt.ylabel(units)\n",
    "        plt.title(f\"Sound level time progression\" + title)\n",
    "        plt.legend()\n",
    "\n",
    "        # Show the plot\n",
    "        plt.show()"
   ]
  },
  {
   "cell_type": "code",
   "execution_count": null,
   "metadata": {},
   "outputs": [],
   "source": [
    "def calculate_offset(measurements, reference):\n",
    "    if len(measurements) != len(reference):\n",
    "        raise ValueError(\"Both sets must have the same length\")\n",
    "    offset = np.mean(measurements - reference)\n",
    "    return offset"
   ]
  }
 ],
 "metadata": {
  "kernelspec": {
   "display_name": ".venv",
   "language": "python",
   "name": "python3"
  },
  "language_info": {
   "codemirror_mode": {
    "name": "ipython",
    "version": 3
   },
   "file_extension": ".py",
   "mimetype": "text/x-python",
   "name": "python",
   "nbconvert_exporter": "python",
   "pygments_lexer": "ipython3",
   "version": "3.11.0"
  }
 },
 "nbformat": 4,
 "nbformat_minor": 2
}
