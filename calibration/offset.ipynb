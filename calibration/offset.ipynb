{
 "cells": [
  {
   "cell_type": "markdown",
   "metadata": {},
   "source": [
    "# Calibración de offset"
   ]
  },
  {
   "cell_type": "code",
   "execution_count": 2,
   "metadata": {},
   "outputs": [],
   "source": [
    "import threading\n",
    "import time\n",
    "import csv\n",
    "import numpy as np\n",
    "import sounddevice as sd\n",
    "import serial\n",
    "from ctypes import cast, POINTER\n",
    "from comtypes import CLSCTX_ALL\n",
    "from pycaw.pycaw import AudioUtilities, IAudioEndpointVolume"
   ]
  },
  {
   "cell_type": "code",
   "execution_count": 2,
   "metadata": {},
   "outputs": [],
   "source": [
    "SLM_COM_PORT = \"COMX\"\n",
    "SLM_BAUDRATE = 115200\n",
    "SLM_PERIOD = 0.125\n",
    "\n",
    "# System volume level required to reach the offset reference value (i.e. 94 dB) \n",
    "OFFSET_REF_VOLUME = 0.95\n",
    "# Reference dB value\n",
    "REF_DB = 94.0"
   ]
  },
  {
   "cell_type": "code",
   "execution_count": 3,
   "metadata": {},
   "outputs": [],
   "source": [
    "# Function to receive serial data and store it\n",
    "def receive_serial_data(data):\n",
    "    ser = serial.Serial(SLM_COM_PORT, SLM_BAUDRATE)  # Replace 'COM1' with your serial port\n",
    "    while not terminate_event.is_set():\n",
    "        received_data = float(ser.readline().decode().strip())\n",
    "        data.append(received_data)\n",
    "    ser.close()\n",
    "\n",
    "# Function to play audio sine waves\n",
    "def play_audio_sine_wave():\n",
    "    # Get the default audio playback device\n",
    "    devices = AudioUtilities.GetSpeakers()\n",
    "    interface = devices.Activate(\n",
    "        IAudioEndpointVolume._iid_, CLSCTX_ALL, None)\n",
    "\n",
    "    # Create a volume control interface and set the volume\n",
    "    volume_controller = cast(interface, POINTER(IAudioEndpointVolume))\n",
    "    volume_controller.SetMasterVolumeLevelScalar(OFFSET_REF_VOLUME, None)\n",
    "\n",
    "    duration = 15  #s\n",
    "    t = np.arange(0, duration, 1 / 88200)\n",
    "    sine_wave = np.sin(2 * np.pi * 1000 * t)  # 1 kHz sine wave\n",
    "\n",
    "    # Wait before playing the sine wave\n",
    "    time.sleep(3) #s\n",
    "\n",
    "    sd.play(sine_wave, sample_rate, blocking=True)\n",
    "\n",
    "    # Wait after playback is done\n",
    "    time.sleep(3) #s\n",
    "    # Send a signal to the other thread to terminate\n",
    "    terminate_event.set()"
   ]
  },
  {
   "cell_type": "code",
   "execution_count": 4,
   "metadata": {},
   "outputs": [],
   "source": [
    "# Create a list to store received serial data\n",
    "serial_data = []\n",
    "\n",
    "# Event to signal termination\n",
    "terminate_event = threading.Event()\n",
    "\n",
    "# Create the serial data receiving thread\n",
    "serial_thread = threading.Thread(target=receive_serial_data, args=(serial_data,))\n",
    "serial_thread.daemon = True\n",
    "\n",
    "# Create the audio playback thread\n",
    "audio_thread = threading.Thread(target=play_audio_sine_wave)\n",
    "audio_thread.daemon = True"
   ]
  },
  {
   "cell_type": "markdown",
   "metadata": {},
   "source": [
    "## Ejecutar prueba"
   ]
  },
  {
   "cell_type": "code",
   "execution_count": 5,
   "metadata": {},
   "outputs": [
    {
     "name": "stderr",
     "output_type": "stream",
     "text": [
      "Exception in thread Thread-5 (receive_serial_data):\n",
      "Traceback (most recent call last):\n",
      "  File \"c:\\Users\\antho\\anaconda3\\envs\\rsim-calibration\\lib\\threading.py\", line 1016, in _bootstrap_inner\n",
      "Exception in thread Thread-6 (play_audio_sine_wave):\n",
      "Traceback (most recent call last):\n",
      "  File \"c:\\Users\\antho\\anaconda3\\envs\\rsim-calibration\\lib\\threading.py\", line 1016, in _bootstrap_inner\n",
      "    self.run()\n",
      "  File \"c:\\Users\\antho\\anaconda3\\envs\\rsim-calibration\\lib\\threading.py\", line 953, in run\n",
      "    self.run()\n",
      "  File \"c:\\Users\\antho\\anaconda3\\envs\\rsim-calibration\\lib\\threading.py\", line 953, in run\n",
      "    self._target(*self._args, **self._kwargs)\n",
      "  File \"C:\\Users\\antho\\AppData\\Local\\Temp\\ipykernel_20788\\3851770720.py\", line 3, in receive_serial_data\n",
      "    self._target(*self._args, **self._kwargs)\n",
      "  File \"C:\\Users\\antho\\AppData\\Local\\Temp\\ipykernel_20788\\3851770720.py\", line 12, in play_audio_sine_wave\n",
      "AttributeError: module 'serial' has no attribute 'Serial'\n",
      "NameError: name 'AudioUtilities' is not defined\n"
     ]
    }
   ],
   "source": [
    "# Start both threads\n",
    "serial_thread.start()\n",
    "audio_thread.start()\n",
    "\n",
    "# Wait for the threads to finish\n",
    "serial_thread.join()\n",
    "audio_thread.join()"
   ]
  },
  {
   "cell_type": "markdown",
   "metadata": {},
   "source": [
    "## Analizar datos"
   ]
  },
  {
   "cell_type": "code",
   "execution_count": 6,
   "metadata": {},
   "outputs": [
    {
     "name": "stdout",
     "output_type": "stream",
     "text": [
      "[]\n"
     ]
    },
    {
     "ename": "ZeroDivisionError",
     "evalue": "division by zero",
     "output_type": "error",
     "traceback": [
      "\u001b[1;31m---------------------------------------------------------------------------\u001b[0m",
      "\u001b[1;31mZeroDivisionError\u001b[0m                         Traceback (most recent call last)",
      "\u001b[1;32mc:\\Users\\antho\\Delta\\rsim\\calibration\\offset.ipynb Cell 9\u001b[0m line \u001b[0;36m4\n\u001b[0;32m      <a href='vscode-notebook-cell:/c%3A/Users/antho/Delta/rsim/calibration/offset.ipynb#X11sZmlsZQ%3D%3D?line=1'>2</a>\u001b[0m \u001b[39mprint\u001b[39m(serial_data)\n\u001b[0;32m      <a href='vscode-notebook-cell:/c%3A/Users/antho/Delta/rsim/calibration/offset.ipynb#X11sZmlsZQ%3D%3D?line=2'>3</a>\u001b[0m \u001b[39m# Take the average measurement\u001b[39;00m\n\u001b[1;32m----> <a href='vscode-notebook-cell:/c%3A/Users/antho/Delta/rsim/calibration/offset.ipynb#X11sZmlsZQ%3D%3D?line=3'>4</a>\u001b[0m avg \u001b[39m=\u001b[39m \u001b[39msum\u001b[39;49m(serial_data)\u001b[39m/\u001b[39;49m\u001b[39mlen\u001b[39;49m(serial_data)\n\u001b[0;32m      <a href='vscode-notebook-cell:/c%3A/Users/antho/Delta/rsim/calibration/offset.ipynb#X11sZmlsZQ%3D%3D?line=5'>6</a>\u001b[0m \u001b[39m# Calculate the offset\u001b[39;00m\n\u001b[0;32m      <a href='vscode-notebook-cell:/c%3A/Users/antho/Delta/rsim/calibration/offset.ipynb#X11sZmlsZQ%3D%3D?line=6'>7</a>\u001b[0m offset \u001b[39m=\u001b[39m REF_DB \u001b[39m-\u001b[39m avg\n",
      "\u001b[1;31mZeroDivisionError\u001b[0m: division by zero"
     ]
    }
   ],
   "source": [
    "# Inspect the dB samples\n",
    "print(serial_data)\n",
    "# Take the average measurement\n",
    "avg = sum(serial_data)/len(serial_data)\n",
    "\n",
    "# Calculate the offset\n",
    "offset = REF_DB - avg\n",
    "print(offset)"
   ]
  }
 ],
 "metadata": {
  "kernelspec": {
   "display_name": "rsim-calibration",
   "language": "python",
   "name": "python3"
  },
  "language_info": {
   "codemirror_mode": {
    "name": "ipython",
    "version": 3
   },
   "file_extension": ".py",
   "mimetype": "text/x-python",
   "name": "python",
   "nbconvert_exporter": "python",
   "pygments_lexer": "ipython3",
   "version": "3.11.0"
  }
 },
 "nbformat": 4,
 "nbformat_minor": 2
}
