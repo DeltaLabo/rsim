{
 "cells": [
  {
   "cell_type": "markdown",
   "metadata": {},
   "source": [
    "# Calibración de offset"
   ]
  },
  {
   "cell_type": "code",
   "execution_count": null,
   "metadata": {
    "vscode": {
     "languageId": "plaintext"
    }
   },
   "outputs": [],
   "source": [
    "import threading\n",
    "import time\n",
    "import csv\n",
    "import numpy as np\n",
    "import sounddevice as sd\n",
    "import serial"
   ]
  },
  {
   "cell_type": "code",
   "execution_count": null,
   "metadata": {
    "vscode": {
     "languageId": "plaintext"
    }
   },
   "outputs": [],
   "source": [
    "SLM_COM_PORT = \"COMX\"\n",
    "SLM_BAUDRATE = 115200\n",
    "SLM_PERIOD = 0.125\n",
    "\n",
    "# System volume level required to reach the offset reference value (i.e. 94 dB) \n",
    "OFFSET_REF_VOLUME = 0.95\n",
    "# Reference dB value\n",
    "REF_DB = 94.0"
   ]
  },
  {
   "cell_type": "code",
   "execution_count": null,
   "metadata": {
    "vscode": {
     "languageId": "plaintext"
    }
   },
   "outputs": [],
   "source": [
    "# Function to receive serial data and store it\n",
    "def receive_serial_data(data):\n",
    "    ser = serial.Serial(SLM_COM_PORT, SLM_BAUDRATE)  # Replace 'COM1' with your serial port\n",
    "    while not terminate_event.is_set():\n",
    "        received_data = float(ser.readline().decode().strip())\n",
    "        data.append(received_data)\n",
    "    ser.close()\n",
    "\n",
    "# Function to play audio sine waves\n",
    "def play_audio_sine_wave():\n",
    "    # Get the default audio playback device\n",
    "    devices = AudioUtilities.GetSpeakers()\n",
    "    interface = devices.Activate(\n",
    "        IAudioEndpointVolume._iid_, CLSCTX_ALL, None)\n",
    "\n",
    "    # Create a volume control interface and set the volume\n",
    "    volume_controller = cast(interface, POINTER(IAudioEndpointVolume))\n",
    "    volume_controller.SetMasterVolumeLevelScalar(OFFSET_REF_VOLUME, None)\n",
    "\n",
    "    duration = 15  #s\n",
    "    t = np.arange(0, duration, 1 / 88200)\n",
    "    sine_wave = np.sin(2 * np.pi * 1000 * t)  # 1 kHz sine wave\n",
    "\n",
    "    # Wait before playing the sine wave\n",
    "    time.sleep(3) #s\n",
    "\n",
    "    sd.play(sine_wave, sample_rate, blocking=True)\n",
    "\n",
    "    # Wait after playback is done\n",
    "    time.sleep(3) #s\n",
    "    # Send a signal to the other thread to terminate\n",
    "    terminate_event.set()"
   ]
  },
  {
   "cell_type": "code",
   "execution_count": null,
   "metadata": {
    "vscode": {
     "languageId": "plaintext"
    }
   },
   "outputs": [],
   "source": [
    "# Create a list to store received serial data\n",
    "serial_data = []\n",
    "\n",
    "# Event to signal termination\n",
    "terminate_event = threading.Event()\n",
    "\n",
    "# Create the serial data receiving thread\n",
    "serial_thread = threading.Thread(target=receive_serial_data, args=(serial_data,))\n",
    "serial_thread.daemon = True\n",
    "\n",
    "# Create the audio playback thread\n",
    "audio_thread = threading.Thread(target=play_audio_sine_wave)\n",
    "audio_thread.daemon = True"
   ]
  },
  {
   "cell_type": "markdown",
   "metadata": {},
   "source": [
    "## Ejecutar prueba"
   ]
  },
  {
   "cell_type": "code",
   "execution_count": null,
   "metadata": {
    "vscode": {
     "languageId": "plaintext"
    }
   },
   "outputs": [],
   "source": [
    "# Start both threads\n",
    "serial_thread.start()\n",
    "audio_thread.start()\n",
    "\n",
    "# Wait for the threads to finish\n",
    "serial_thread.join()\n",
    "audio_thread.join()"
   ]
  },
  {
   "cell_type": "markdown",
   "metadata": {},
   "source": [
    "## Analizar datos"
   ]
  },
  {
   "cell_type": "code",
   "execution_count": null,
   "metadata": {
    "vscode": {
     "languageId": "plaintext"
    }
   },
   "outputs": [],
   "source": [
    "# Inspect the dB samples\n",
    "print(serial_data)\n",
    "# Take the average measurement\n",
    "avg = sum(serial_data)/len(serial_data)\n",
    "\n",
    "# Calculate the offset\n",
    "offset = REF_DB - avg\n",
    "print(offset)"
   ]
  }
 ],
 "metadata": {
  "language_info": {
   "name": "python"
  }
 },
 "nbformat": 4,
 "nbformat_minor": 2
}
