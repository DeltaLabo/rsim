{
 "cells": [
  {
   "cell_type": "markdown",
   "metadata": {},
   "source": [
    "# Pruebas con barrido de frecuencia"
   ]
  },
  {
   "cell_type": "code",
   "execution_count": 1,
   "metadata": {},
   "outputs": [],
   "source": [
    "import numpy as np\n",
    "import matplotlib.pyplot as plt\n",
    "from ordered_set import OrderedSet\n",
    "import pickle"
   ]
  },
  {
   "cell_type": "code",
   "execution_count": null,
   "metadata": {},
   "outputs": [],
   "source": [
    "import sys\n",
    "sys.path.append('..')\n",
    "# Custom imports\n",
    "from analysis_utils import DataContainer, plot_time_progression, color_map, calculate_mae, calculate_rmse, calculate_gain, plot_ref_gain, plot_ref_mae_rmse, plot_ambient_results, calculate_stdev"
   ]
  },
  {
   "cell_type": "markdown",
   "metadata": {},
   "source": [
    "## Cargar datos"
   ]
  },
  {
   "cell_type": "code",
   "execution_count": 16,
   "metadata": {},
   "outputs": [],
   "source": [
    "with open(\"../results/sweep_tests/freq_response.pkl\", 'rb') as file:\n",
    "    freq_response_data = pickle.load(file)\n",
    "\n",
    "with open(\"../results/sweep_tests/freq_sweep_f.pkl\", 'rb') as file:\n",
    "    freq_sweep_data_F = pickle.load(file)\n",
    "\n",
    "with open(\"../results/sweep_tests/freq_sweep_s.pkl\", 'rb') as file:\n",
    "    freq_sweep_data_S = pickle.load(file)\n",
    "\n",
    "with open(\"../results/sweep_tests/freq_wting.pkl\", 'rb') as file:\n",
    "    freq_weighting_data = pickle.load(file)"
   ]
  },
  {
   "cell_type": "markdown",
   "metadata": {},
   "source": [
    "## Analizar datos"
   ]
  },
  {
   "cell_type": "code",
   "execution_count": 42,
   "metadata": {},
   "outputs": [],
   "source": [
    "# TODO: Delete\n",
    "class TestDataContainer(dict):\n",
    "    # Format the data container for the specified test waves\n",
    "    def __init__(self, seed, *args, **kwargs):\n",
    "        super(TestDataContainer, self).__init__(*args, **kwargs)\n",
    "\n",
    "        self.frequencies = OrderedSet()\n",
    "        self.volumes = OrderedSet()\n",
    "        self[\"all\"] = np.random.uniform(33, 92, size=(100,))\n",
    "\n",
    "        for freq in (1000, 2000, 3000):\n",
    "            self.frequencies.add(freq)\n",
    "            self[freq] = {}\n",
    "            self[freq][\"freq_all\"] = np.random.uniform(33, 92, size=(100,))\n",
    "\n",
    "            for volume in (0.03, 0.04, 0.05):\n",
    "                self.volumes.add(volume)\n",
    "                self[freq][volume] = np.random.uniform(volume, volume+seed, size=(30,))\n",
    "\n",
    "# Test datasets\n",
    "test1 = TestDataContainer(5)\n",
    "test2 = TestDataContainer(1)"
   ]
  }
 ],
 "metadata": {
  "kernelspec": {
   "display_name": ".venv",
   "language": "python",
   "name": "python3"
  },
  "language_info": {
   "codemirror_mode": {
    "name": "ipython",
    "version": 3
   },
   "file_extension": ".py",
   "mimetype": "text/x-python",
   "name": "python",
   "nbconvert_exporter": "python",
   "pygments_lexer": "ipython3",
   "version": "3.11.0"
  }
 },
 "nbformat": 4,
 "nbformat_minor": 2
}
