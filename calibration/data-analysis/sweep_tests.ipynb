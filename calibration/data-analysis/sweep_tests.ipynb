{
 "cells": [
  {
   "cell_type": "markdown",
   "metadata": {},
   "source": [
    "# Pruebas con barrido de frecuencia"
   ]
  },
  {
   "cell_type": "code",
   "execution_count": 1,
   "metadata": {},
   "outputs": [],
   "source": [
    "import numpy as np\n",
    "import matplotlib.pyplot as plt\n",
    "from ordered_set import OrderedSet\n",
    "import pickle"
   ]
  },
  {
   "cell_type": "code",
   "execution_count": null,
   "metadata": {},
   "outputs": [],
   "source": [
    "import sys\n",
    "sys.path.append('..')\n",
    "# Custom imports\n",
    "from audio_constants import ref_volume\n",
    "from analysis_utils import DataContainer, plot_time_progression, color_map, calculate_mae, calculate_rmse, calculate_gain, plot_ref_gain, plot_ref_mae_rmse, plot_ambient_results, calculate_stdev"
   ]
  },
  {
   "cell_type": "markdown",
   "metadata": {},
   "source": [
    "## Cargar datos"
   ]
  },
  {
   "cell_type": "code",
   "execution_count": 16,
   "metadata": {},
   "outputs": [],
   "source": [
    "with open(\"../results/sweep_tests/freq_response.pkl\", 'rb') as file:\n",
    "    freq_response_data = pickle.load(file)\n",
    "\n",
    "with open(\"../results/sweep_tests/freq_sweep_f.pkl\", 'rb') as file:\n",
    "    freq_sweep_data_F = pickle.load(file)\n",
    "\n",
    "with open(\"../results/sweep_tests/freq_sweep_s.pkl\", 'rb') as file:\n",
    "    freq_sweep_data_S = pickle.load(file)\n",
    "\n",
    "with open(\"../results/sweep_tests/freq_wting.pkl\", 'rb') as file:\n",
    "    freq_weighting_data = pickle.load(file)"
   ]
  },
  {
   "cell_type": "code",
   "execution_count": 42,
   "metadata": {},
   "outputs": [],
   "source": [
    "# TODO: Delete\n",
    "class TestDataContainer(dict):\n",
    "    # Format the data container for the specified test waves\n",
    "    def __init__(self, seed, *args, **kwargs):\n",
    "        super(TestDataContainer, self).__init__(*args, **kwargs)\n",
    "\n",
    "        self.frequencies = OrderedSet()\n",
    "        self.volumes = OrderedSet()\n",
    "        self[\"all\"] = np.random.uniform(33, 92, size=(100,))\n",
    "\n",
    "        for freq in (1000, 2000, 3000):\n",
    "            self.frequencies.add(freq)\n",
    "            self[freq] = {}\n",
    "            self[freq][\"freq_all\"] = np.random.uniform(33, 92, size=(100,))\n",
    "\n",
    "            for volume in (5, 6, 7):\n",
    "                self.volumes.add(volume)\n",
    "                self[freq][volume] = np.random.uniform(volume, volume+seed, size=(30,))\n",
    "\n",
    "# Test datasets\n",
    "test1 = TestDataContainer(5)\n",
    "test2 = TestDataContainer(1)"
   ]
  },
  {
   "cell_type": "markdown",
   "metadata": {},
   "source": [
    "## Respuesta de frecuencia y nivel"
   ]
  },
  {
   "cell_type": "markdown",
   "metadata": {},
   "source": [
    "Respuesta de frecuencia para el nivel de referencia"
   ]
  },
  {
   "cell_type": "code",
   "execution_count": null,
   "metadata": {},
   "outputs": [],
   "source": [
    "plot_ref_gain(freq_response_data, freq_response_data_ref, ref_volume, \"dB\", f\"Respuesta de frecuencia del ESP @ {ref_volume} dB, T=F\")"
   ]
  },
  {
   "cell_type": "markdown",
   "metadata": {},
   "source": [
    "Error absoluto promedio (MAE) y error RMS (RMSE) para el nivel de referencia"
   ]
  },
  {
   "cell_type": "code",
   "execution_count": null,
   "metadata": {},
   "outputs": [],
   "source": [
    "plot_ref_mae_rmse(freq_response_data, freq_response_data_ref, ref_volume, \"dB\", f\"MAE y RSM de la respuesta de frecuencia del ESP @ {ref_volume} dB, T=F\")"
   ]
  },
  {
   "cell_type": "markdown",
   "metadata": {},
   "source": [
    "Gain, MAE y RMSE para todas las frecuencias y niveles"
   ]
  },
  {
   "cell_type": "code",
   "execution_count": null,
   "metadata": {},
   "outputs": [],
   "source": [
    "# Mostrar Gain como mapa de colores\n",
    "color_map(freq_response_data, freq_response_data_ref, calculate_gain, \"Gain de la respuesta de frecuencia del ESP, T=F\", \"dB\", False):\n",
    "# Mostrar MAE como mapa de colores\n",
    "color_map(freq_response_data, freq_response_data_ref, calculate_mae, \"MAE de la respuesta de frecuencia del ESP, T=F\", \"dB\", False):\n",
    "# Mostrar RMSE como mapa de colores\n",
    "color_map(freq_response_data, freq_response_data_ref, calculate_rmse, \"RMSE de la respuesta de frecuencia del ESP, T=F\", \"dB\", False):"
   ]
  },
  {
   "cell_type": "markdown",
   "metadata": {},
   "source": [
    "Mediciones en función del tiempo, para cada frecuencia\n",
    "*Nota: son varias gráficas, no ejecutar de no ser necesario*"
   ]
  },
  {
   "cell_type": "code",
   "execution_count": null,
   "metadata": {},
   "outputs": [],
   "source": [
    "plot_time_progression(freq_response_data, freq_response_data_ref, \"dB\", \" para la respuesta de frecuencia del ESP, T=F\", 0.125)"
   ]
  },
  {
   "cell_type": "markdown",
   "metadata": {},
   "source": [
    "## Barrido de frecuencia y nivel con periodo F"
   ]
  },
  {
   "cell_type": "markdown",
   "metadata": {},
   "source": [
    "Gain, MAE y RMSE para todas las frecuencias y niveles"
   ]
  },
  {
   "cell_type": "code",
   "execution_count": null,
   "metadata": {},
   "outputs": [],
   "source": [
    "# Mostrar Gain como mapa de colores\n",
    "color_map(freq_sweep_data_F, freq_sweep_data_F_ref, calculate_gain, \"Gain del barrido de frecuencia del ESP, T=F\", \"dBA\", True):\n",
    "# Mostrar MAE como mapa de colores\n",
    "color_map(freq_sweep_data_F, freq_sweep_data_F_ref, calculate_mae, \"MAE del barrido de frecuencia del ESP, T=F\", \"dBA\", True):\n",
    "# Mostrar RMSE como mapa de colores\n",
    "color_map(freq_sweep_data_F, freq_sweep_data_F_ref, calculate_rmse, \"RMSE del barrido de frecuencia del ESP, T=F\", \"dBA\", True):"
   ]
  },
  {
   "cell_type": "markdown",
   "metadata": {},
   "source": [
    "Mediciones en función del tiempo, para cada frecuencia\n",
    "*Nota: son varias gráficas, no ejecutar de no ser necesario*"
   ]
  },
  {
   "cell_type": "code",
   "execution_count": null,
   "metadata": {},
   "outputs": [],
   "source": [
    "plot_time_progression(freq_sweep_data_F, freq_sweep_data_F_ref, \"dBA\", \" para el barrido de frecuencia del ESP, T=F\", 0.125)"
   ]
  },
  {
   "cell_type": "markdown",
   "metadata": {},
   "source": [
    "## Barrido de frecuencia y nivel con periodo S"
   ]
  },
  {
   "cell_type": "markdown",
   "metadata": {},
   "source": [
    "Gain, MAE y RMSE para todas las frecuencias y niveles"
   ]
  },
  {
   "cell_type": "code",
   "execution_count": null,
   "metadata": {},
   "outputs": [],
   "source": [
    "# Mostrar Gain como mapa de colores\n",
    "color_map(freq_sweep_data_S, freq_sweep_data_S_ref, calculate_gain, \"Gain del barrido de frecuencia del ESP, T=S\", \"dBA\", True):\n",
    "# Mostrar MAE como mapa de colores\n",
    "color_map(freq_sweep_data_S, freq_sweep_data_S_ref, calculate_mae, \"MAE del barrido de frecuencia del ESP, T=S\", \"dBA\", True):\n",
    "# Mostrar RMSE como mapa de colores\n",
    "color_map(freq_sweep_data_S, freq_sweep_data_S_ref, calculate_rmse, \"RMSE del barrido de frecuencia del ESP, T=S\", \"dBA\", True):"
   ]
  },
  {
   "cell_type": "markdown",
   "metadata": {},
   "source": [
    "Mediciones en función del tiempo, para cada frecuencia\n",
    "*Nota: son varias gráficas, no ejecutar de no ser necesario*"
   ]
  },
  {
   "cell_type": "code",
   "execution_count": null,
   "metadata": {},
   "outputs": [],
   "source": [
    "plot_time_progression(freq_sweep_data_S, freq_sweep_data_S_ref, \"dBA\", \" para el barrido de frecuencia del ESP, T=S\", 1.0)"
   ]
  },
  {
   "cell_type": "markdown",
   "metadata": {},
   "source": [
    "## Ponderación de frecuencia"
   ]
  },
  {
   "cell_type": "markdown",
   "metadata": {},
   "source": [
    "Ponderación de frecuencia para el nivel de referencia"
   ]
  },
  {
   "cell_type": "code",
   "execution_count": null,
   "metadata": {},
   "outputs": [],
   "source": [
    "plot_ref_gain(freq_weighting_data, freq_weighting_data_ref, ref_volume, \"dB\", f\"Ponderación de frecuencia del ESP @ {ref_volume} dB, T=F\")"
   ]
  },
  {
   "cell_type": "markdown",
   "metadata": {},
   "source": [
    "Gain para todas las frecuencias y niveles"
   ]
  },
  {
   "cell_type": "code",
   "execution_count": null,
   "metadata": {},
   "outputs": [],
   "source": [
    "# Mostrar Gain como mapa de colores\n",
    "color_map(freq_weighting_data, freq_weighting_data_ref, calculate_gain, \"Gain de la ponderación de frecuencia del ESP, T=F\", \"dB\", False):"
   ]
  },
  {
   "cell_type": "markdown",
   "metadata": {},
   "source": [
    "Error absoluto promedio (MAE) y error RMS (RMSE) para el nivel de referencia"
   ]
  },
  {
   "cell_type": "code",
   "execution_count": null,
   "metadata": {},
   "outputs": [],
   "source": [
    "plot_ref_mae_rmse(freq_weighting_data, freq_sweep_data_F_ref, ref_volume, \"dB\", f\"MAE y RSM de la ponderación de frecuencia del ESP @ {ref_volume} dB, T=F\")"
   ]
  }
 ],
 "metadata": {
  "kernelspec": {
   "display_name": ".venv",
   "language": "python",
   "name": "python3"
  },
  "language_info": {
   "codemirror_mode": {
    "name": "ipython",
    "version": 3
   },
   "file_extension": ".py",
   "mimetype": "text/x-python",
   "name": "python",
   "nbconvert_exporter": "python",
   "pygments_lexer": "ipython3",
   "version": "3.11.0"
  }
 },
 "nbformat": 4,
 "nbformat_minor": 2
}
