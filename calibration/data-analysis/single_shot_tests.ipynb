{
 "cells": [
  {
   "cell_type": "markdown",
   "metadata": {},
   "source": [
    "# Pruebas de una sola grabación"
   ]
  },
  {
   "cell_type": "code",
   "execution_count": null,
   "metadata": {},
   "outputs": [],
   "source": [
    "import numpy as np\n",
    "import matplotlib.pyplot as plt\n",
    "from ordered_set import OrderedSet\n",
    "import pickle"
   ]
  },
  {
   "cell_type": "code",
   "execution_count": null,
   "metadata": {},
   "outputs": [],
   "source": [
    "import sys\n",
    "sys.path.append('..')\n",
    "# Custom imports\n",
    "from analysis_utils import DataContainer, plot_time_progression, color_map, calculate_mae, calculate_rmse, calculate_gain, plot_ref_gain, plot_ref_mae_rmse, calculate_stdev, plot_ambient_results"
   ]
  },
  {
   "cell_type": "markdown",
   "metadata": {},
   "source": [
    "## Cargar datos"
   ]
  },
  {
   "cell_type": "code",
   "execution_count": 7,
   "metadata": {},
   "outputs": [],
   "source": [
    "with open(\"../results/single_shot_tests/t_wting_f.pkl\", 'rb') as file:\n",
    "    time_weighting_data_F = pickle.load(file)\n",
    "\n",
    "with open(\"../results/single_shot_tests/t_wting_s.pkl\", 'rb') as file:\n",
    "    time_weighting_data_S = pickle.load(file)\n",
    "\n",
    "with open(\"../results/single_shot_tests/stability.pkl\", 'rb') as file:\n",
    "    stability_data = pickle.load(file)\n",
    "\n",
    "with open(\"../results/single_shot_tests/ambient_f.pkl\", 'rb') as file:\n",
    "    ambient_data_F = pickle.load(file)\n",
    "\n",
    "with open(\"../results/single_shot_tests/ambient_s.pkl\", 'rb') as file:\n",
    "    ambient_data_S = pickle.load(file)"
   ]
  },
  {
   "cell_type": "markdown",
   "metadata": {},
   "source": [
    "## Ruido ambiental con periodo F"
   ]
  },
  {
   "cell_type": "markdown",
   "metadata": {},
   "source": [
    "Mediciones en función del tiempo, para cada volumen"
   ]
  },
  {
   "cell_type": "code",
   "execution_count": 42,
   "metadata": {},
   "outputs": [],
   "source": [
    "plot_ambient_results(ambient_data_F, ambient_data_F_ref, 0.125)"
   ]
  },
  {
   "cell_type": "markdown",
   "metadata": {},
   "source": [
    "Error absoluto promedio (MAE) y error RMS (RMSE), para cada volumen"
   ]
  },
  {
   "cell_type": "code",
   "execution_count": null,
   "metadata": {},
   "outputs": [],
   "source": [
    "print_ambient_results(ambient_data_F, ambient_data_F_ref, 0.125)"
   ]
  },
  {
   "cell_type": "markdown",
   "metadata": {},
   "source": [
    "## Ruido ambiental con periodo S"
   ]
  },
  {
   "cell_type": "markdown",
   "metadata": {},
   "source": [
    "Mediciones en función del tiempo, para cada volumen"
   ]
  },
  {
   "cell_type": "code",
   "execution_count": null,
   "metadata": {},
   "outputs": [],
   "source": [
    "plot_ambient_results(ambient_data_S, ambient_data_S_ref, 1.0)"
   ]
  },
  {
   "cell_type": "markdown",
   "metadata": {},
   "source": [
    "Error absoluto promedio (MAE) y error RMS (RMSE), para cada volumen"
   ]
  },
  {
   "cell_type": "code",
   "execution_count": null,
   "metadata": {},
   "outputs": [],
   "source": [
    "print_ambient_results(ambient_data_S, ambient_data_S_ref, 1.0)"
   ]
  },
  {
   "cell_type": "markdown",
   "metadata": {},
   "source": [
    "## Estabilidad"
   ]
  },
  {
   "cell_type": "markdown",
   "metadata": {},
   "source": [
    "Mediciones en función del tiempo"
   ]
  },
  {
   "cell_type": "code",
   "execution_count": null,
   "metadata": {},
   "outputs": [],
   "source": [
    "plot_time_progression(stability_data, None, \"dBA\", \" para prueba de estabilidad, T=F, A-weighted\", 0.125):"
   ]
  },
  {
   "cell_type": "markdown",
   "metadata": {},
   "source": [
    "Desviación estándar"
   ]
  },
  {
   "cell_type": "code",
   "execution_count": null,
   "metadata": {},
   "outputs": [],
   "source": [
    "calculate_stdev(stability_data)"
   ]
  },
  {
   "cell_type": "markdown",
   "metadata": {},
   "source": [
    "Criterio de estabilidad según IEC 61672"
   ]
  },
  {
   "cell_type": "code",
   "execution_count": null,
   "metadata": {},
   "outputs": [],
   "source": [
    "# Array index at which the measurements reach the reference level\n",
    "index = 10\n",
    "\n",
    "delta = abs(stability_data[index] - stability_data[-index])\n",
    "print(f\"Diferencia entre mediciones iniciales y finales: {delta}\")"
   ]
  },
  {
   "cell_type": "markdown",
   "metadata": {},
   "source": [
    "## Ponderación de tiempo con periodo F"
   ]
  },
  {
   "cell_type": "markdown",
   "metadata": {},
   "source": [
    "Mediciones en función del tiempo"
   ]
  },
  {
   "cell_type": "code",
   "execution_count": null,
   "metadata": {},
   "outputs": [],
   "source": [
    "plot_time_progression(time_weighting_data_F, time_weighting_data_F_ref, \"dBA\", \" para prueba de ponderación de tiempo, T=F, A-weighted\", 0.125):"
   ]
  },
  {
   "cell_type": "markdown",
   "metadata": {},
   "source": [
    "Error absoluto promedio (MAE) y error RMS (RMSE)"
   ]
  },
  {
   "cell_type": "code",
   "execution_count": null,
   "metadata": {},
   "outputs": [],
   "source": [
    "print(f\"MAE: {calculate_mae(time_weighting_data_F, time_weighting_data_F_ref)}\")\n",
    "print(f\"RMSE: {calculate_rmse(time_weighting_data_F, time_weighting_data_F_ref)}\")"
   ]
  },
  {
   "cell_type": "markdown",
   "metadata": {},
   "source": [
    "## Ponderación de tiempo con periodo S"
   ]
  },
  {
   "cell_type": "markdown",
   "metadata": {},
   "source": [
    "Mediciones en función del tiempo"
   ]
  },
  {
   "cell_type": "code",
   "execution_count": null,
   "metadata": {},
   "outputs": [],
   "source": [
    "plot_time_progression(time_weighting_data_S, time_weighting_data_S_ref, \"dBA\", \" para prueba de ponderación de tiempo, T=S, A-weighted\", 1.0):"
   ]
  },
  {
   "cell_type": "markdown",
   "metadata": {},
   "source": [
    "Error absoluto promedio (MAE) y error RMS (RMSE)"
   ]
  },
  {
   "cell_type": "code",
   "execution_count": null,
   "metadata": {},
   "outputs": [],
   "source": [
    "print(f\"MAE: {calculate_mae(time_weighting_data_S, time_weighting_data_S_ref)}\")\n",
    "print(f\"RMSE: {calculate_rmse(time_weighting_data_S, time_weighting_data_S_ref)}\")"
   ]
  }
 ],
 "metadata": {
  "kernelspec": {
   "display_name": ".venv",
   "language": "python",
   "name": "python3"
  },
  "language_info": {
   "codemirror_mode": {
    "name": "ipython",
    "version": 3
   },
   "file_extension": ".py",
   "mimetype": "text/x-python",
   "name": "python",
   "nbconvert_exporter": "python",
   "pygments_lexer": "ipython3",
   "version": "3.11.0"
  }
 },
 "nbformat": 4,
 "nbformat_minor": 2
}
