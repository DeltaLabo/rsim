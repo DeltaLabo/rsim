{
 "cells": [
  {
   "cell_type": "markdown",
   "metadata": {},
   "source": [
    "# Pruebas de una sola grabación"
   ]
  },
  {
   "cell_type": "code",
   "execution_count": null,
   "metadata": {},
   "outputs": [],
   "source": [
    "import numpy as np\n",
    "import matplotlib.pyplot as plt\n",
    "from ordered_set import OrderedSet\n",
    "import pickle"
   ]
  },
  {
   "cell_type": "code",
   "execution_count": null,
   "metadata": {},
   "outputs": [],
   "source": [
    "import sys\n",
    "sys.path.append('..')\n",
    "# Custom imports\n",
    "from analysis_utils import DataContainer, plot_time_progression, color_map, calculate_mae, calculate_rmse, calculate_gain, plot_ref_gain, plot_ref_mae_rmse, calculate_stdev, plot_ambient_results"
   ]
  },
  {
   "cell_type": "markdown",
   "metadata": {},
   "source": [
    "## Cargar datos"
   ]
  },
  {
   "cell_type": "code",
   "execution_count": 7,
   "metadata": {},
   "outputs": [],
   "source": [
    "with open(\"../results/single_shot_tests/t_wting_f.pkl\", 'rb') as file:\n",
    "    time_weighting_data_F = pickle.load(file)\n",
    "\n",
    "with open(\"../results/single_shot_tests/t_wting_s.pkl\", 'rb') as file:\n",
    "    time_weighting_data_S = pickle.load(file)\n",
    "\n",
    "with open(\"../results/single_shot_tests/stability.pkl\", 'rb') as file:\n",
    "    stability_data = pickle.load(file)\n",
    "\n",
    "with open(\"../results/single_shot_tests/ambient_f.pkl\", 'rb') as file:\n",
    "    ambient_data_F = pickle.load(file)\n",
    "\n",
    "with open(\"../results/single_shot_tests/ambient_s.pkl\", 'rb') as file:\n",
    "    ambient_data_S = pickle.load(file)"
   ]
  },
  {
   "cell_type": "markdown",
   "metadata": {},
   "source": [
    "## Analizar datos"
   ]
  },
  {
   "cell_type": "code",
   "execution_count": 42,
   "metadata": {},
   "outputs": [],
   "source": [
    "# TODO: Delete\n",
    "# Test datasets\n",
    "test1 = np.random.uniform(33, 92, size=(100,))\n",
    "test2 = np.random.uniform(33, 92, size=(100,))"
   ]
  }
 ],
 "metadata": {
  "kernelspec": {
   "display_name": ".venv",
   "language": "python",
   "name": "python3"
  },
  "language_info": {
   "codemirror_mode": {
    "name": "ipython",
    "version": 3
   },
   "file_extension": ".py",
   "mimetype": "text/x-python",
   "name": "python",
   "nbconvert_exporter": "python",
   "pygments_lexer": "ipython3",
   "version": "3.11.0"
  }
 },
 "nbformat": 4,
 "nbformat_minor": 2
}
