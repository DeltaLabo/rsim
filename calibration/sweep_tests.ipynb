{
 "cells": [
  {
   "cell_type": "markdown",
   "metadata": {},
   "source": [
    "# Pruebas con barrido de frecuencia"
   ]
  },
  {
   "cell_type": "code",
   "execution_count": 1,
   "metadata": {},
   "outputs": [],
   "source": [
    "import threading\n",
    "import time\n",
    "import csv\n",
    "import numpy as np\n",
    "import sounddevice as sd\n",
    "import serial\n",
    "from ctypes import cast, POINTER\n",
    "from comtypes import CLSCTX_ALL\n",
    "from pycaw.pycaw import AudioUtilities, IAudioEndpointVolume\n",
    "import matplotlib.pyplot as plt\n",
    "from ordered_set import OrderedSet"
   ]
  },
  {
   "cell_type": "code",
   "execution_count": 2,
   "metadata": {},
   "outputs": [],
   "source": [
    "ESP_COM_PORT = \"COM23\"\n",
    "ESP_BAUDRATE = 115200\n",
    "TIME_PERIOD = 0.125"
   ]
  },
  {
   "cell_type": "code",
   "execution_count": 3,
   "metadata": {},
   "outputs": [],
   "source": [
    "# Frequencies taken from IEC 61672-1 and rounded to one decimal place\n",
    "iec61672_freqs = (\n",
    "    50.2, 63.1, 79.4, 100.0, 125.9, 158.5, 199.5, 251.2, 316.2, \n",
    "    398.1, 501.2, 631.0, 794.3, 1000.0, 1258.9, 1584.9, 1995.3, # Up to 2 kHz at 1/3-octave\n",
    "    2238.7, 2511.9, 2818.4, 3162.3, 3548.1, 3984.1, 4466.8, 5011.9, 5623.4, 6309.6, \n",
    "    7079.5, 7943.3, # 2 to 8 kHz at 1/6-octave\n",
    "    8414.0, 8912.5, 9440.6, 10000.0, 10593.0, 11220.0, 11885.0, 12589.0, 13335.0, 14125.0,\n",
    "    14962.0, 15849.0, 16788.0, 17783.0, 18836.0, 19953.0 # Up to 20 kHz at 1/12-octave\n",
    ")\n",
    "\n",
    "ten_dB_spaced_volumes = (0.06, 0.13, 0.26, 0.51, 0.100) # 50 to 90 dB, in 10 dB intervals\n",
    "ref_volume = 0.51 # 80 dB\n",
    "\n",
    "freq_response_waves = {\n",
    "    \"frequencies\": iec61672_freqs,\n",
    "    \"volumes\": ten_dB_spaced_volumes\n",
    "}\n",
    "\n",
    "freq_sweep_waves = {\n",
    "    \"frequencies\": (1000, 2000, 3000),\n",
    "    \"volumes\": (0.03, 0.04, 0.05)\n",
    "}\n",
    "\n",
    "freq_weighting_waves = {\n",
    "    \"frequencies\": iec61672_freqs,\n",
    "    \"volumes\": ten_dB_spaced_volumes\n",
    "}"
   ]
  },
  {
   "cell_type": "code",
   "execution_count": 4,
   "metadata": {},
   "outputs": [],
   "source": [
    "# Get the default audio playback device\n",
    "devices = AudioUtilities.GetSpeakers()\n",
    "interface = devices.Activate(\n",
    "    IAudioEndpointVolume._iid_, CLSCTX_ALL, None)\n",
    "\n",
    "# Create a volume control interface\n",
    "volume_controller = cast(interface, POINTER(IAudioEndpointVolume))"
   ]
  },
  {
   "cell_type": "code",
   "execution_count": 5,
   "metadata": {},
   "outputs": [],
   "source": [
    "# Variables for status syncronization between threads\n",
    "current_freq = 0\n",
    "current_volume = 0.0"
   ]
  },
  {
   "cell_type": "code",
   "execution_count": 6,
   "metadata": {},
   "outputs": [],
   "source": [
    "class DataContainer(dict):\n",
    "    # Format the data container for the specified test waves\n",
    "    def __init__(self, test_waves, *args, **kwargs):\n",
    "        super(DataContainer, self).__init__(*args, **kwargs)\n",
    "\n",
    "        self.frequencies = OrderedSet()\n",
    "        self.volumes = OrderedSet()\n",
    "        self[\"all\"] = np.array([])\n",
    "\n",
    "        for freq in test_waves[\"frequencies\"]:\n",
    "            self.frequencies.add(freq)\n",
    "            self[freq] = {}\n",
    "            self[freq][\"freq_all\"] = np.array([])\n",
    "\n",
    "            for volume in test_waves[\"volumes\"]:\n",
    "                self.volumes.add(volume)\n",
    "                self[freq][volume] = np.array([])"
   ]
  },
  {
   "cell_type": "code",
   "execution_count": 15,
   "metadata": {},
   "outputs": [],
   "source": [
    "# Function to receive serial data and store it\n",
    "def receive_serial_data(data):\n",
    "    ser = serial.Serial(ESP_COM_PORT, ESP_BAUDRATE)  # Replace 'COM1' with your serial port\n",
    "    while not terminate_event.is_set():\n",
    "        received_data = ser.readline().decode().strip()\n",
    "        received_data = received_data.split(\" \")[0]\n",
    "        try:\n",
    "            received_data = float(received_data)\n",
    "        except ValueError:\n",
    "            received_data = float(received_data.split(\".\")[0])\n",
    "        try:\n",
    "            if log_flag:\n",
    "                data[current_freq][current_volume] = np.append(data[current_freq][current_volume], received_data)\n",
    "            if freq_flag:\n",
    "                data[current_freq][\"freq_all\"] = np.append(data[current_freq][\"freq_all\"], received_data)\n",
    "            data[\"all\"] = np.append(data[\"all\"], received_data)\n",
    "        except KeyError:\n",
    "            pass\n",
    "    ser.close()\n",
    "\n",
    "# Function to play audio sine waves\n",
    "def play_test_waves(test_waves):\n",
    "    global current_freq, current_volume, log_flag, freq_flag\n",
    "\n",
    "    duration = 2.5 if TIME_PERIOD == 0.125 else 20\n",
    "    sample_rate = 88200\n",
    "    t = np.arange(0, duration, 1 / sample_rate)\n",
    "\n",
    "    for freq in test_waves[\"frequencies\"]:\n",
    "        current_freq = freq\n",
    "        sine_wave = np.sin(2 * np.pi * freq * t)\n",
    "\n",
    "        for n, volume in enumerate(test_waves[\"volumes\"]):\n",
    "            current_volume = volume\n",
    "            print(f\"now playing: {volume} volume @ {freq} Hz\")\n",
    "\n",
    "            log_flag = True\n",
    "            if not freq_flag:\n",
    "                freq_flag = True\n",
    "\n",
    "            volume_controller.SetMasterVolumeLevelScalar(volume/10, None)\n",
    "\n",
    "            # Wait before playing the sine wave\n",
    "            time.sleep(0.375 if TIME_PERIOD == 0.125 else 3) #s\n",
    "\n",
    "            sd.play(sine_wave, sample_rate, blocking=True)\n",
    "\n",
    "            # Wait after playback is done\n",
    "            time.sleep(0.375 if TIME_PERIOD == 0.125 else 3) #s\n",
    "\n",
    "            log_flag = False\n",
    "            if n == (len(test_waves[\"volumes\"]) - 1):\n",
    "                freq_flag = False\n",
    "\n",
    "    # Send a signal to the other thread to terminate\n",
    "    terminate_event.set()"
   ]
  },
  {
   "cell_type": "code",
   "execution_count": 8,
   "metadata": {},
   "outputs": [],
   "source": [
    "# Doesn't sync the update times of the SLM and ESP, so it's not necessary\n",
    "def play_sync_impulses():\n",
    "    # Duration of the impulse in seconds\n",
    "    duration = 0.375 if TIME_PERIOD == 0.125 else 3 # s\n",
    "    sample_rate = 88200\n",
    "    t = np.arange(0, duration, 1 / sample_rate)\n",
    "\n",
    "    # Create an impulse signal\n",
    "    impulse = np.sin(2 * np.pi * 1000 * t)\n",
    "\n",
    "    # Wait before playing the impulse\n",
    "    time.sleep(0.375 if TIME_PERIOD == 0.125 else 3) #s\n",
    "\n",
    "    # Play the impulse\n",
    "    sd.play(impulse, sample_rate, blocking=True)\n",
    "\n",
    "    time.sleep(0.3 if TIME_PERIOD == 0.125 else 2)\n",
    "\n",
    "    sd.play(impulse, sample_rate, blocking=True)\n",
    "\n",
    "    time.sleep(0.6 if TIME_PERIOD == 0.125 else 4)\n",
    "\n",
    "    sd.play(impulse, sample_rate, blocking=True)\n",
    "\n",
    "    time.sleep(0.375 if TIME_PERIOD == 0.125 else 3)"
   ]
  },
  {
   "cell_type": "code",
   "execution_count": 16,
   "metadata": {},
   "outputs": [],
   "source": [
    "# Create formatted containers to store received serial data\n",
    "freq_response_data = DataContainer(freq_response_waves)\n",
    "freq_sweep_data = DataContainer(freq_sweep_waves)\n",
    "freq_weighting_data = DataContainer(freq_weighting_waves)\n",
    "\n",
    "# Event to signal termination\n",
    "terminate_event = threading.Event()\n",
    "# Flag to signal when to log measurements\n",
    "log_flag = False\n",
    "# Flag to signal the duration of a level progression for a certain frequency\n",
    "freq_flag = False"
   ]
  },
  {
   "cell_type": "markdown",
   "metadata": {},
   "source": [
    "## Ejecutar pruebas"
   ]
  },
  {
   "cell_type": "code",
   "execution_count": null,
   "metadata": {},
   "outputs": [],
   "source": [
    "# *** Frequency response ***\n",
    "\n",
    "# Create the serial data receiving thread\n",
    "serial_thread = threading.Thread(target=receive_serial_data, args=(freq_response_data,))\n",
    "serial_thread.daemon = True\n",
    "\n",
    "# Create the audio playback thread\n",
    "audio_thread = threading.Thread(target=play_test_waves, args=(freq_response_waves,))\n",
    "audio_thread.daemon = True\n",
    "\n",
    "# Start serial thread\n",
    "serial_thread.start()\n",
    "# Play tests\n",
    "audio_thread.start()\n",
    "\n",
    "# Wait for the threads to finish\n",
    "serial_thread.join()\n",
    "audio_thread.join()\n",
    "\n",
    "# Reset the event for next test\n",
    "terminate_event.clear()"
   ]
  },
  {
   "cell_type": "code",
   "execution_count": 17,
   "metadata": {},
   "outputs": [
    {
     "name": "stdout",
     "output_type": "stream",
     "text": [
      "now playing: 0.03 volume @ 1000 Hz\n",
      "now playing: 0.04 volume @ 1000 Hz\n",
      "now playing: 0.05 volume @ 1000 Hz\n",
      "now playing: 0.03 volume @ 2000 Hz\n",
      "now playing: 0.04 volume @ 2000 Hz\n",
      "now playing: 0.05 volume @ 2000 Hz\n",
      "now playing: 0.03 volume @ 3000 Hz\n",
      "now playing: 0.04 volume @ 3000 Hz\n",
      "now playing: 0.05 volume @ 3000 Hz\n"
     ]
    }
   ],
   "source": [
    "# *** Frequency sweep ***\n",
    "\n",
    "# Create the serial data receiving thread\n",
    "serial_thread = threading.Thread(target=receive_serial_data, args=(freq_sweep_data,))\n",
    "serial_thread.daemon = True\n",
    "\n",
    "# Create the audio playback thread\n",
    "audio_thread = threading.Thread(target=play_test_waves, args=(freq_sweep_waves,))\n",
    "audio_thread.daemon = True\n",
    "\n",
    "# Start serial thread\n",
    "serial_thread.start()\n",
    "# Play tests\n",
    "audio_thread.start()\n",
    "\n",
    "# Wait for the threads to finish\n",
    "serial_thread.join()\n",
    "audio_thread.join()\n",
    "\n",
    "# Reset the event for next test\n",
    "terminate_event.clear()"
   ]
  },
  {
   "cell_type": "code",
   "execution_count": null,
   "metadata": {},
   "outputs": [],
   "source": [
    "# *** Frequency weighting ***\n",
    "\n",
    "# Create the serial data receiving thread\n",
    "serial_thread = threading.Thread(target=receive_serial_data, args=(freq_weighting_data,))\n",
    "serial_thread.daemon = True\n",
    "\n",
    "# Create the audio playback thread\n",
    "audio_thread = threading.Thread(target=play_test_waves, args=(freq_weighting_waves,))\n",
    "audio_thread.daemon = True\n",
    "\n",
    "# Start serial thread\n",
    "serial_thread.start()\n",
    "# Play tests\n",
    "audio_thread.start()\n",
    "\n",
    "# Wait for the threads to finish\n",
    "serial_thread.join()\n",
    "audio_thread.join()\n",
    "\n",
    "# Reset the event for next test\n",
    "terminate_event.clear()"
   ]
  },
  {
   "cell_type": "markdown",
   "metadata": {},
   "source": [
    "## Guardar datos"
   ]
  },
  {
   "cell_type": "code",
   "execution_count": null,
   "metadata": {},
   "outputs": [],
   "source": [
    "with open(\"data/sweep_tests/freq_response_f.pkl\", 'wb') as file:\n",
    "    pickle.dump(freq_response_data, file)"
   ]
  },
  {
   "cell_type": "markdown",
   "metadata": {},
   "source": [
    "## Procesar datos del sonómetro"
   ]
  },
  {
   "cell_type": "code",
   "execution_count": null,
   "metadata": {},
   "outputs": [],
   "source": [
    "# Convert the SLM reference data to the same format as the ESP measurements\n",
    "reference = {}"
   ]
  },
  {
   "cell_type": "markdown",
   "metadata": {},
   "source": [
    "## Analizar datos"
   ]
  },
  {
   "cell_type": "code",
   "execution_count": 42,
   "metadata": {},
   "outputs": [],
   "source": [
    "# TODO: Delete\n",
    "class TestDataContainer(dict):\n",
    "    # Format the data container for the specified test waves\n",
    "    def __init__(self, seed, *args, **kwargs):\n",
    "        super(TestDataContainer, self).__init__(*args, **kwargs)\n",
    "\n",
    "        self.frequencies = OrderedSet()\n",
    "        self.volumes = OrderedSet()\n",
    "        self[\"all\"] = np.random.uniform(33, 92, size=(100,))\n",
    "\n",
    "        for freq in (1000, 2000, 3000):\n",
    "            self.frequencies.add(freq)\n",
    "            self[freq] = {}\n",
    "            self[freq][\"freq_all\"] = np.random.uniform(33, 92, size=(100,))\n",
    "\n",
    "            for volume in (0.03, 0.04, 0.05):\n",
    "                self.volumes.add(volume)\n",
    "                self[freq][volume] = np.random.uniform(volume, volume+seed, size=(30,))\n",
    "\n",
    "# Test datasets\n",
    "test1 = TestDataContainer(5)\n",
    "test2 = TestDataContainer(1)"
   ]
  },
  {
   "cell_type": "code",
   "execution_count": 50,
   "metadata": {},
   "outputs": [],
   "source": [
    "# Plot the sound level progression with respect to time, for each frequency\n",
    "def plot_time_progression(measurements, reference, units, title):\n",
    "    for freq in measurements.frequencies:\n",
    "        # Create x-axis values\n",
    "        x_axis = [x * TIME_PERIOD for x in range(len(measurements[freq][\"freq_all\"]))]\n",
    "\n",
    "        # Create a plot\n",
    "        plt.plot(x_axis, measurements[freq][\"freq_all\"], label=\"ESP\")\n",
    "        plt.plot(x_axis, reference[freq][\"freq_all\"], label=\"SLM\")\n",
    "\n",
    "        # Add labels and a title (optional)\n",
    "        plt.xlabel(\"s\")\n",
    "        plt.ylabel(units)\n",
    "        plt.title(f\"Sound level time progression @ {freq} Hz\" + title)\n",
    "        plt.legend()\n",
    "\n",
    "        # Show the plot\n",
    "        plt.show()"
   ]
  },
  {
   "cell_type": "code",
   "execution_count": 33,
   "metadata": {},
   "outputs": [],
   "source": [
    "# Plot color map\n",
    "def color_map(measurements, reference, function, title, function_units, weighted):\n",
    "    # Create an empty matrix to store MAE values\n",
    "    matrix = np.zeros((len(measurements.frequencies), len(measurements.volumes)))\n",
    "\n",
    "    # Calculate MAE for all pairs of sets\n",
    "    for i, freq in enumerate(measurements.frequencies):\n",
    "        for j, volume in enumerate(measurements.volumes):\n",
    "            matrix[i, j] = function(\n",
    "                measurements[freq][volume],\n",
    "                reference[freq][volume]\n",
    "            )\n",
    "\n",
    "    # Plot the MAE matrix as a colormap\n",
    "    img = plt.imshow(matrix, cmap='viridis', interpolation='nearest')\n",
    "    plt.xticks(range(len(measurements.volumes)), measurements.volumes)\n",
    "    plt.yticks(range(len(measurements.frequencies)), measurements.frequencies)\n",
    "    plt.xlabel(\"dBA\" if weighted else \"dB\")\n",
    "    plt.ylabel(\"Hz\")\n",
    "    cbar = plt.colorbar()\n",
    "    cbar.set_label(function_units)\n",
    "    plt.title(title)\n",
    "    plt.show()"
   ]
  },
  {
   "cell_type": "code",
   "execution_count": null,
   "metadata": {},
   "outputs": [],
   "source": [
    "def calculate_mae(measurements, reference):\n",
    "    if len(measurements) != len(reference):\n",
    "        raise ValueError(\"Both sets must have the same length\")\n",
    "    mae = np.mean(np.abs(measurements - reference))\n",
    "    return mae\n",
    "\n",
    "def calculate_rmse(measurements, reference):\n",
    "    if len(measurements) != len(reference):\n",
    "        raise ValueError(\"Input arrays must have the same length.\")\n",
    "    # Calculate the squared differences\n",
    "    squared_diff = (measurements - reference) ** 2\n",
    "    # Calculate the mean of squared differences\n",
    "    mean_squared_diff = np.mean(squared_diff)\n",
    "    # Calculate the square root of the mean squared differences (RMSE)\n",
    "    rmse = np.sqrt(mean_squared_diff)\n",
    "    return rmse\n",
    "\n",
    "def calculate_gain(measurements, reference):\n",
    "    if len(measurements) != len(reference):\n",
    "        raise ValueError(\"Both sets must have the same length\")\n",
    "    gain = np.mean(measurements - reference)\n",
    "    return gain"
   ]
  },
  {
   "cell_type": "code",
   "execution_count": null,
   "metadata": {},
   "outputs": [],
   "source": [
    "# Plot the frequency response of the measurements with respect to the reference, for the reference volume level\n",
    "def plot_ref_gain(measurements, reference, ref_volume, units, title):\n",
    "    gain = np.array([])\n",
    "\n",
    "    for freq in measurements.frequencies:\n",
    "        gain = np.append(gain, calculate_gain(measurements[freq][ref_volume], reference[freq][ref_volume]))\n",
    "\n",
    "    # Create x-axis values\n",
    "    x_axis = measurements.frequencies\n",
    "\n",
    "    # Create a plot\n",
    "    plt.plot(x_axis, gain)\n",
    "\n",
    "    # Add labels and a title (optional)\n",
    "    plt.xlabel(\"Hz\")\n",
    "    plt.xticks(measurements.frequencies, measurements.frequencies)\n",
    "    plt.ylabel(f\"Gain ({units})\")\n",
    "    plt.title(title)\n",
    "\n",
    "    # Show the plot\n",
    "    plt.show()"
   ]
  },
  {
   "cell_type": "code",
   "execution_count": 56,
   "metadata": {},
   "outputs": [
    {
     "data": {
      "image/png": "[encoded data removed]",
      "text/plain": [
       "<Figure size 640x480 with 1 Axes>"
      ]
     },
     "metadata": {},
     "output_type": "display_data"
    }
   ],
   "source": [
    "# Plot the MAE and RMSE of the measurements with respect to the reference, for the reference volume level\n",
    "def plot_ref_MAE_RMSE(measurements, reference, ref_volume, units, title):\n",
    "    mae = np.array([])\n",
    "    rmse = np.array([])\n",
    "\n",
    "    for freq in measurements.frequencies:\n",
    "        mae = np.append(mae, calculate_mae(measurements[freq][ref_volume], reference[freq][ref_volume]))\n",
    "        rmse = np.append(rmse, calculate_rmse(measurements[freq][ref_volume], reference[freq][ref_volume]))\n",
    "\n",
    "    # Create x-axis values\n",
    "    x_axis = measurements.frequencies\n",
    "\n",
    "    # Create a plot\n",
    "    plt.plot(x_axis, mae, label=\"MAE\")\n",
    "    plt.plot(x_axis, rmse, label=\"RMSE\")\n",
    "\n",
    "    # Add labels and a title (optional)\n",
    "    plt.xlabel(\"Hz\")\n",
    "    plt.xticks(measurements.frequencies, measurements.frequencies)\n",
    "    plt.ylabel(units)\n",
    "    plt.title(title)\n",
    "    plt.legend()\n",
    "\n",
    "    # Show the plot\n",
    "    plt.show()\n",
    "\n",
    "plot_ref_MAE_RMSE(test1, test2, 0.04, \"dBA\", \"MAE and RMSE\")"
   ]
  }
 ],
 "metadata": {
  "kernelspec": {
   "display_name": ".venv",
   "language": "python",
   "name": "python3"
  },
  "language_info": {
   "codemirror_mode": {
    "name": "ipython",
    "version": 3
   },
   "file_extension": ".py",
   "mimetype": "text/x-python",
   "name": "python",
   "nbconvert_exporter": "python",
   "pygments_lexer": "ipython3",
   "version": "3.11.0"
  }
 },
 "nbformat": 4,
 "nbformat_minor": 2
}
